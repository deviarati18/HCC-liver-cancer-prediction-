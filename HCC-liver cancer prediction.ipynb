{
 "cells": [
  {
   "cell_type": "code",
   "execution_count": 1,
   "id": "5bc1ee42",
   "metadata": {},
   "outputs": [],
   "source": [
    "import numpy as np\n",
    "import pandas as pd\n",
    "import matplotlib.pyplot as plt\n",
    "from sklearn.model_selection import RepeatedStratifiedKFold\n",
    "from sklearn.model_selection import cross_val_score"
   ]
  },
  {
   "cell_type": "code",
   "execution_count": 2,
   "id": "bece237d",
   "metadata": {},
   "outputs": [
    {
     "data": {
      "text/html": [
       "<div>\n",
       "<style scoped>\n",
       "    .dataframe tbody tr th:only-of-type {\n",
       "        vertical-align: middle;\n",
       "    }\n",
       "\n",
       "    .dataframe tbody tr th {\n",
       "        vertical-align: top;\n",
       "    }\n",
       "\n",
       "    .dataframe thead th {\n",
       "        text-align: right;\n",
       "    }\n",
       "</style>\n",
       "<table border=\"1\" class=\"dataframe\">\n",
       "  <thead>\n",
       "    <tr style=\"text-align: right;\">\n",
       "      <th></th>\n",
       "      <th>Gender</th>\n",
       "      <th>Symptoms</th>\n",
       "      <th>Alcohol</th>\n",
       "      <th>HBsAg</th>\n",
       "      <th>HBeAg</th>\n",
       "      <th>HBcAb</th>\n",
       "      <th>HCVAb</th>\n",
       "      <th>Cirrhosis</th>\n",
       "      <th>Endemic</th>\n",
       "      <th>Smoking</th>\n",
       "      <th>...</th>\n",
       "      <th>ALP</th>\n",
       "      <th>TP</th>\n",
       "      <th>Creatinine</th>\n",
       "      <th>Nodule</th>\n",
       "      <th>Major_Dim</th>\n",
       "      <th>Dir_Bil</th>\n",
       "      <th>Iron</th>\n",
       "      <th>Sat</th>\n",
       "      <th>Ferritin</th>\n",
       "      <th>Class</th>\n",
       "    </tr>\n",
       "  </thead>\n",
       "  <tbody>\n",
       "    <tr>\n",
       "      <th>0</th>\n",
       "      <td>1</td>\n",
       "      <td>0</td>\n",
       "      <td>1</td>\n",
       "      <td>0</td>\n",
       "      <td>0</td>\n",
       "      <td>0</td>\n",
       "      <td>0</td>\n",
       "      <td>1</td>\n",
       "      <td>0</td>\n",
       "      <td>1</td>\n",
       "      <td>...</td>\n",
       "      <td>150</td>\n",
       "      <td>7,1</td>\n",
       "      <td>0,7</td>\n",
       "      <td>1</td>\n",
       "      <td>3,5</td>\n",
       "      <td>0,5</td>\n",
       "      <td>52,5</td>\n",
       "      <td>37</td>\n",
       "      <td>856</td>\n",
       "      <td>1</td>\n",
       "    </tr>\n",
       "    <tr>\n",
       "      <th>1</th>\n",
       "      <td>0</td>\n",
       "      <td>0</td>\n",
       "      <td>0</td>\n",
       "      <td>0</td>\n",
       "      <td>0</td>\n",
       "      <td>0</td>\n",
       "      <td>1</td>\n",
       "      <td>1</td>\n",
       "      <td>0</td>\n",
       "      <td>1</td>\n",
       "      <td>...</td>\n",
       "      <td>120</td>\n",
       "      <td>7</td>\n",
       "      <td>0,58</td>\n",
       "      <td>1</td>\n",
       "      <td>1,8</td>\n",
       "      <td>0,85</td>\n",
       "      <td>32</td>\n",
       "      <td>10</td>\n",
       "      <td>18</td>\n",
       "      <td>1</td>\n",
       "    </tr>\n",
       "    <tr>\n",
       "      <th>2</th>\n",
       "      <td>1</td>\n",
       "      <td>0</td>\n",
       "      <td>1</td>\n",
       "      <td>1</td>\n",
       "      <td>0</td>\n",
       "      <td>1</td>\n",
       "      <td>0</td>\n",
       "      <td>1</td>\n",
       "      <td>0</td>\n",
       "      <td>1</td>\n",
       "      <td>...</td>\n",
       "      <td>109</td>\n",
       "      <td>7</td>\n",
       "      <td>2,1</td>\n",
       "      <td>5</td>\n",
       "      <td>13</td>\n",
       "      <td>0,1</td>\n",
       "      <td>28</td>\n",
       "      <td>6</td>\n",
       "      <td>16</td>\n",
       "      <td>1</td>\n",
       "    </tr>\n",
       "    <tr>\n",
       "      <th>3</th>\n",
       "      <td>1</td>\n",
       "      <td>1</td>\n",
       "      <td>1</td>\n",
       "      <td>0</td>\n",
       "      <td>0</td>\n",
       "      <td>0</td>\n",
       "      <td>0</td>\n",
       "      <td>1</td>\n",
       "      <td>0</td>\n",
       "      <td>1</td>\n",
       "      <td>...</td>\n",
       "      <td>174</td>\n",
       "      <td>8,1</td>\n",
       "      <td>1,11</td>\n",
       "      <td>2</td>\n",
       "      <td>15,7</td>\n",
       "      <td>0,2</td>\n",
       "      <td>131</td>\n",
       "      <td>78</td>\n",
       "      <td>1316</td>\n",
       "      <td>0</td>\n",
       "    </tr>\n",
       "    <tr>\n",
       "      <th>4</th>\n",
       "      <td>1</td>\n",
       "      <td>1</td>\n",
       "      <td>1</td>\n",
       "      <td>1</td>\n",
       "      <td>0</td>\n",
       "      <td>1</td>\n",
       "      <td>0</td>\n",
       "      <td>1</td>\n",
       "      <td>0</td>\n",
       "      <td>1</td>\n",
       "      <td>...</td>\n",
       "      <td>109</td>\n",
       "      <td>6,9</td>\n",
       "      <td>1,8</td>\n",
       "      <td>1</td>\n",
       "      <td>9</td>\n",
       "      <td>0,1</td>\n",
       "      <td>59</td>\n",
       "      <td>15</td>\n",
       "      <td>22</td>\n",
       "      <td>1</td>\n",
       "    </tr>\n",
       "  </tbody>\n",
       "</table>\n",
       "<p>5 rows × 50 columns</p>\n",
       "</div>"
      ],
      "text/plain": [
       "   Gender  Symptoms  Alcohol  HBsAg  HBeAg  HBcAb  HCVAb  Cirrhosis  Endemic  \\\n",
       "0       1         0        1      0      0      0      0          1        0   \n",
       "1       0         0        0      0      0      0      1          1        0   \n",
       "2       1         0        1      1      0      1      0          1        0   \n",
       "3       1         1        1      0      0      0      0          1        0   \n",
       "4       1         1        1      1      0      1      0          1        0   \n",
       "\n",
       "   Smoking  ...  ALP   TP  Creatinine  Nodule  Major_Dim  Dir_Bil  Iron  Sat  \\\n",
       "0        1  ...  150  7,1         0,7       1        3,5      0,5  52,5   37   \n",
       "1        1  ...  120    7        0,58       1        1,8     0,85    32   10   \n",
       "2        1  ...  109    7         2,1       5         13      0,1    28    6   \n",
       "3        1  ...  174  8,1        1,11       2       15,7      0,2   131   78   \n",
       "4        1  ...  109  6,9         1,8       1          9      0,1    59   15   \n",
       "\n",
       "   Ferritin  Class  \n",
       "0       856      1  \n",
       "1        18      1  \n",
       "2        16      1  \n",
       "3      1316      0  \n",
       "4        22      1  \n",
       "\n",
       "[5 rows x 50 columns]"
      ]
     },
     "execution_count": 2,
     "metadata": {},
     "output_type": "execute_result"
    }
   ],
   "source": [
    "hcc = pd.read_excel('hcc-data-complete-balanced.xlsx')\n",
    "hcc.head()"
   ]
  },
  {
   "cell_type": "markdown",
   "id": "32258898",
   "metadata": {},
   "source": [
    "## Data Preprocessing"
   ]
  },
  {
   "cell_type": "code",
   "execution_count": 3,
   "id": "bd6fa89c",
   "metadata": {},
   "outputs": [
    {
     "name": "stdout",
     "output_type": "stream",
     "text": [
      "<class 'pandas.core.frame.DataFrame'>\n",
      "RangeIndex: 204 entries, 0 to 203\n",
      "Data columns (total 50 columns):\n",
      " #   Column          Non-Null Count  Dtype \n",
      "---  ------          --------------  ----- \n",
      " 0   Gender          204 non-null    int64 \n",
      " 1   Symptoms        204 non-null    int64 \n",
      " 2   Alcohol         204 non-null    int64 \n",
      " 3   HBsAg           204 non-null    int64 \n",
      " 4   HBeAg           204 non-null    int64 \n",
      " 5   HBcAb           204 non-null    int64 \n",
      " 6   HCVAb           204 non-null    int64 \n",
      " 7   Cirrhosis       204 non-null    int64 \n",
      " 8   Endemic         204 non-null    int64 \n",
      " 9   Smoking         204 non-null    int64 \n",
      " 10  Diabetes        204 non-null    int64 \n",
      " 11  Obesity         204 non-null    int64 \n",
      " 12  Hemochro        204 non-null    int64 \n",
      " 13  AHT             204 non-null    int64 \n",
      " 14  CRI             204 non-null    int64 \n",
      " 15  HIV             204 non-null    int64 \n",
      " 16  NASH            204 non-null    int64 \n",
      " 17  Varices         204 non-null    int64 \n",
      " 18  Spleno          204 non-null    int64 \n",
      " 19  PHT             204 non-null    int64 \n",
      " 20  PVT             204 non-null    int64 \n",
      " 21  Metastasis      204 non-null    int64 \n",
      " 22  Hallmark        204 non-null    int64 \n",
      " 23  Age             204 non-null    int64 \n",
      " 24  Grams_day       204 non-null    int64 \n",
      " 25  Packs_year      204 non-null    object\n",
      " 26  PS              204 non-null    int64 \n",
      " 27  Encephalopathy  204 non-null    int64 \n",
      " 28  Ascites         204 non-null    int64 \n",
      " 29  INR             204 non-null    object\n",
      " 30  AFP             204 non-null    object\n",
      " 31  Hemoglobin      204 non-null    object\n",
      " 32  MCV             204 non-null    object\n",
      " 33  Leucocytes      204 non-null    object\n",
      " 34  Platelets       204 non-null    object\n",
      " 35  Albumin         204 non-null    object\n",
      " 36  Total_Bil       204 non-null    object\n",
      " 37  ALT             204 non-null    int64 \n",
      " 38  AST             204 non-null    int64 \n",
      " 39  GGT             204 non-null    int64 \n",
      " 40  ALP             204 non-null    int64 \n",
      " 41  TP              204 non-null    object\n",
      " 42  Creatinine      204 non-null    object\n",
      " 43  Nodule          204 non-null    int64 \n",
      " 44  Major_Dim       204 non-null    object\n",
      " 45  Dir_Bil         204 non-null    object\n",
      " 46  Iron            204 non-null    object\n",
      " 47  Sat             204 non-null    object\n",
      " 48  Ferritin        204 non-null    object\n",
      " 49  Class           204 non-null    int64 \n",
      "dtypes: int64(34), object(16)\n",
      "memory usage: 79.8+ KB\n"
     ]
    }
   ],
   "source": [
    "hcc.info()"
   ]
  },
  {
   "cell_type": "code",
   "execution_count": 4,
   "id": "0effbfd0",
   "metadata": {},
   "outputs": [
    {
     "name": "stdout",
     "output_type": "stream",
     "text": [
      "Gender            object\n",
      "Symptoms          object\n",
      "Alcohol           object\n",
      "HBsAg             object\n",
      "HBeAg             object\n",
      "HBcAb             object\n",
      "HCVAb             object\n",
      "Cirrhosis         object\n",
      "Endemic           object\n",
      "Smoking           object\n",
      "Diabetes          object\n",
      "Obesity           object\n",
      "Hemochro          object\n",
      "AHT               object\n",
      "CRI               object\n",
      "HIV               object\n",
      "NASH              object\n",
      "Varices           object\n",
      "Spleno            object\n",
      "PHT               object\n",
      "PVT               object\n",
      "Metastasis        object\n",
      "Hallmark          object\n",
      "Age               object\n",
      "Grams_day         object\n",
      "Packs_year        object\n",
      "PS                object\n",
      "Encephalopathy    object\n",
      "Ascites           object\n",
      "INR               object\n",
      "AFP               object\n",
      "Hemoglobin        object\n",
      "MCV               object\n",
      "Leucocytes        object\n",
      "Platelets         object\n",
      "Albumin           object\n",
      "Total_Bil         object\n",
      "ALT               object\n",
      "AST               object\n",
      "GGT               object\n",
      "ALP               object\n",
      "TP                object\n",
      "Creatinine        object\n",
      "Nodule            object\n",
      "Major_Dim         object\n",
      "Dir_Bil           object\n",
      "Iron              object\n",
      "Sat               object\n",
      "Ferritin          object\n",
      "Class             object\n",
      "dtype: object\n"
     ]
    }
   ],
   "source": [
    "# Convert entire DataFrame to string\n",
    "\n",
    "hcc = hcc.applymap(str)\n",
    "print(hcc.dtypes)\n"
   ]
  },
  {
   "cell_type": "markdown",
   "id": "59996911",
   "metadata": {},
   "source": [
    "### Replacing ',' by '.'"
   ]
  },
  {
   "cell_type": "code",
   "execution_count": 5,
   "id": "1b603757",
   "metadata": {},
   "outputs": [],
   "source": [
    "data = hcc.applymap(lambda x: str(x.replace(',','.')))"
   ]
  },
  {
   "cell_type": "code",
   "execution_count": 6,
   "id": "7716bb3b",
   "metadata": {},
   "outputs": [
    {
     "data": {
      "text/html": [
       "<div>\n",
       "<style scoped>\n",
       "    .dataframe tbody tr th:only-of-type {\n",
       "        vertical-align: middle;\n",
       "    }\n",
       "\n",
       "    .dataframe tbody tr th {\n",
       "        vertical-align: top;\n",
       "    }\n",
       "\n",
       "    .dataframe thead th {\n",
       "        text-align: right;\n",
       "    }\n",
       "</style>\n",
       "<table border=\"1\" class=\"dataframe\">\n",
       "  <thead>\n",
       "    <tr style=\"text-align: right;\">\n",
       "      <th></th>\n",
       "      <th>Gender</th>\n",
       "      <th>Symptoms</th>\n",
       "      <th>Alcohol</th>\n",
       "      <th>HBsAg</th>\n",
       "      <th>HBeAg</th>\n",
       "      <th>HBcAb</th>\n",
       "      <th>HCVAb</th>\n",
       "      <th>Cirrhosis</th>\n",
       "      <th>Endemic</th>\n",
       "      <th>Smoking</th>\n",
       "      <th>...</th>\n",
       "      <th>ALP</th>\n",
       "      <th>TP</th>\n",
       "      <th>Creatinine</th>\n",
       "      <th>Nodule</th>\n",
       "      <th>Major_Dim</th>\n",
       "      <th>Dir_Bil</th>\n",
       "      <th>Iron</th>\n",
       "      <th>Sat</th>\n",
       "      <th>Ferritin</th>\n",
       "      <th>Class</th>\n",
       "    </tr>\n",
       "  </thead>\n",
       "  <tbody>\n",
       "    <tr>\n",
       "      <th>0</th>\n",
       "      <td>1</td>\n",
       "      <td>0</td>\n",
       "      <td>1</td>\n",
       "      <td>0</td>\n",
       "      <td>0</td>\n",
       "      <td>0</td>\n",
       "      <td>0</td>\n",
       "      <td>1</td>\n",
       "      <td>0</td>\n",
       "      <td>1</td>\n",
       "      <td>...</td>\n",
       "      <td>150</td>\n",
       "      <td>7.1</td>\n",
       "      <td>0.7</td>\n",
       "      <td>1</td>\n",
       "      <td>3.5</td>\n",
       "      <td>0.5</td>\n",
       "      <td>52.5</td>\n",
       "      <td>37</td>\n",
       "      <td>856</td>\n",
       "      <td>1</td>\n",
       "    </tr>\n",
       "    <tr>\n",
       "      <th>1</th>\n",
       "      <td>0</td>\n",
       "      <td>0</td>\n",
       "      <td>0</td>\n",
       "      <td>0</td>\n",
       "      <td>0</td>\n",
       "      <td>0</td>\n",
       "      <td>1</td>\n",
       "      <td>1</td>\n",
       "      <td>0</td>\n",
       "      <td>1</td>\n",
       "      <td>...</td>\n",
       "      <td>120</td>\n",
       "      <td>7</td>\n",
       "      <td>0.58</td>\n",
       "      <td>1</td>\n",
       "      <td>1.8</td>\n",
       "      <td>0.85</td>\n",
       "      <td>32</td>\n",
       "      <td>10</td>\n",
       "      <td>18</td>\n",
       "      <td>1</td>\n",
       "    </tr>\n",
       "    <tr>\n",
       "      <th>2</th>\n",
       "      <td>1</td>\n",
       "      <td>0</td>\n",
       "      <td>1</td>\n",
       "      <td>1</td>\n",
       "      <td>0</td>\n",
       "      <td>1</td>\n",
       "      <td>0</td>\n",
       "      <td>1</td>\n",
       "      <td>0</td>\n",
       "      <td>1</td>\n",
       "      <td>...</td>\n",
       "      <td>109</td>\n",
       "      <td>7</td>\n",
       "      <td>2.1</td>\n",
       "      <td>5</td>\n",
       "      <td>13</td>\n",
       "      <td>0.1</td>\n",
       "      <td>28</td>\n",
       "      <td>6</td>\n",
       "      <td>16</td>\n",
       "      <td>1</td>\n",
       "    </tr>\n",
       "    <tr>\n",
       "      <th>3</th>\n",
       "      <td>1</td>\n",
       "      <td>1</td>\n",
       "      <td>1</td>\n",
       "      <td>0</td>\n",
       "      <td>0</td>\n",
       "      <td>0</td>\n",
       "      <td>0</td>\n",
       "      <td>1</td>\n",
       "      <td>0</td>\n",
       "      <td>1</td>\n",
       "      <td>...</td>\n",
       "      <td>174</td>\n",
       "      <td>8.1</td>\n",
       "      <td>1.11</td>\n",
       "      <td>2</td>\n",
       "      <td>15.7</td>\n",
       "      <td>0.2</td>\n",
       "      <td>131</td>\n",
       "      <td>78</td>\n",
       "      <td>1316</td>\n",
       "      <td>0</td>\n",
       "    </tr>\n",
       "    <tr>\n",
       "      <th>4</th>\n",
       "      <td>1</td>\n",
       "      <td>1</td>\n",
       "      <td>1</td>\n",
       "      <td>1</td>\n",
       "      <td>0</td>\n",
       "      <td>1</td>\n",
       "      <td>0</td>\n",
       "      <td>1</td>\n",
       "      <td>0</td>\n",
       "      <td>1</td>\n",
       "      <td>...</td>\n",
       "      <td>109</td>\n",
       "      <td>6.9</td>\n",
       "      <td>1.8</td>\n",
       "      <td>1</td>\n",
       "      <td>9</td>\n",
       "      <td>0.1</td>\n",
       "      <td>59</td>\n",
       "      <td>15</td>\n",
       "      <td>22</td>\n",
       "      <td>1</td>\n",
       "    </tr>\n",
       "  </tbody>\n",
       "</table>\n",
       "<p>5 rows × 50 columns</p>\n",
       "</div>"
      ],
      "text/plain": [
       "  Gender Symptoms Alcohol HBsAg HBeAg HBcAb HCVAb Cirrhosis Endemic Smoking  \\\n",
       "0      1        0       1     0     0     0     0         1       0       1   \n",
       "1      0        0       0     0     0     0     1         1       0       1   \n",
       "2      1        0       1     1     0     1     0         1       0       1   \n",
       "3      1        1       1     0     0     0     0         1       0       1   \n",
       "4      1        1       1     1     0     1     0         1       0       1   \n",
       "\n",
       "   ...  ALP   TP Creatinine Nodule Major_Dim Dir_Bil  Iron Sat Ferritin Class  \n",
       "0  ...  150  7.1        0.7      1       3.5     0.5  52.5  37      856     1  \n",
       "1  ...  120    7       0.58      1       1.8    0.85    32  10       18     1  \n",
       "2  ...  109    7        2.1      5        13     0.1    28   6       16     1  \n",
       "3  ...  174  8.1       1.11      2      15.7     0.2   131  78     1316     0  \n",
       "4  ...  109  6.9        1.8      1         9     0.1    59  15       22     1  \n",
       "\n",
       "[5 rows x 50 columns]"
      ]
     },
     "execution_count": 6,
     "metadata": {},
     "output_type": "execute_result"
    }
   ],
   "source": [
    "data.head()"
   ]
  },
  {
   "cell_type": "code",
   "execution_count": 7,
   "id": "4d4d27a9",
   "metadata": {},
   "outputs": [
    {
     "name": "stdout",
     "output_type": "stream",
     "text": [
      "Gender            float64\n",
      "Symptoms          float64\n",
      "Alcohol           float64\n",
      "HBsAg             float64\n",
      "HBeAg             float64\n",
      "HBcAb             float64\n",
      "HCVAb             float64\n",
      "Cirrhosis         float64\n",
      "Endemic           float64\n",
      "Smoking           float64\n",
      "Diabetes          float64\n",
      "Obesity           float64\n",
      "Hemochro          float64\n",
      "AHT               float64\n",
      "CRI               float64\n",
      "HIV               float64\n",
      "NASH              float64\n",
      "Varices           float64\n",
      "Spleno            float64\n",
      "PHT               float64\n",
      "PVT               float64\n",
      "Metastasis        float64\n",
      "Hallmark          float64\n",
      "Age               float64\n",
      "Grams_day         float64\n",
      "Packs_year        float64\n",
      "PS                float64\n",
      "Encephalopathy    float64\n",
      "Ascites           float64\n",
      "INR               float64\n",
      "AFP               float64\n",
      "Hemoglobin        float64\n",
      "MCV               float64\n",
      "Leucocytes        float64\n",
      "Platelets         float64\n",
      "Albumin           float64\n",
      "Total_Bil         float64\n",
      "ALT               float64\n",
      "AST               float64\n",
      "GGT               float64\n",
      "ALP               float64\n",
      "TP                float64\n",
      "Creatinine        float64\n",
      "Nodule            float64\n",
      "Major_Dim         float64\n",
      "Dir_Bil           float64\n",
      "Iron              float64\n",
      "Sat               float64\n",
      "Ferritin          float64\n",
      "Class             float64\n",
      "dtype: object\n"
     ]
    }
   ],
   "source": [
    "# Converting columns to type float\n",
    "\n",
    "data = data.astype(\"float\")\n",
    "print(data.dtypes)"
   ]
  },
  {
   "cell_type": "code",
   "execution_count": 8,
   "id": "62cd5e67",
   "metadata": {},
   "outputs": [
    {
     "data": {
      "text/html": [
       "<div>\n",
       "<style scoped>\n",
       "    .dataframe tbody tr th:only-of-type {\n",
       "        vertical-align: middle;\n",
       "    }\n",
       "\n",
       "    .dataframe tbody tr th {\n",
       "        vertical-align: top;\n",
       "    }\n",
       "\n",
       "    .dataframe thead th {\n",
       "        text-align: right;\n",
       "    }\n",
       "</style>\n",
       "<table border=\"1\" class=\"dataframe\">\n",
       "  <thead>\n",
       "    <tr style=\"text-align: right;\">\n",
       "      <th></th>\n",
       "      <th>Gender</th>\n",
       "      <th>Symptoms</th>\n",
       "      <th>Alcohol</th>\n",
       "      <th>HBsAg</th>\n",
       "      <th>HBeAg</th>\n",
       "      <th>HBcAb</th>\n",
       "      <th>HCVAb</th>\n",
       "      <th>Cirrhosis</th>\n",
       "      <th>Endemic</th>\n",
       "      <th>Smoking</th>\n",
       "      <th>...</th>\n",
       "      <th>ALP</th>\n",
       "      <th>TP</th>\n",
       "      <th>Creatinine</th>\n",
       "      <th>Nodule</th>\n",
       "      <th>Major_Dim</th>\n",
       "      <th>Dir_Bil</th>\n",
       "      <th>Iron</th>\n",
       "      <th>Sat</th>\n",
       "      <th>Ferritin</th>\n",
       "      <th>Class</th>\n",
       "    </tr>\n",
       "  </thead>\n",
       "  <tbody>\n",
       "    <tr>\n",
       "      <th>0</th>\n",
       "      <td>1.0</td>\n",
       "      <td>0.0</td>\n",
       "      <td>1.0</td>\n",
       "      <td>0.0</td>\n",
       "      <td>0.0</td>\n",
       "      <td>0.0</td>\n",
       "      <td>0.0</td>\n",
       "      <td>1.0</td>\n",
       "      <td>0.0</td>\n",
       "      <td>1.0</td>\n",
       "      <td>...</td>\n",
       "      <td>150.0</td>\n",
       "      <td>7.1</td>\n",
       "      <td>0.70</td>\n",
       "      <td>1.0</td>\n",
       "      <td>3.5</td>\n",
       "      <td>0.50</td>\n",
       "      <td>52.5</td>\n",
       "      <td>37.0</td>\n",
       "      <td>856.0</td>\n",
       "      <td>1.0</td>\n",
       "    </tr>\n",
       "    <tr>\n",
       "      <th>1</th>\n",
       "      <td>0.0</td>\n",
       "      <td>0.0</td>\n",
       "      <td>0.0</td>\n",
       "      <td>0.0</td>\n",
       "      <td>0.0</td>\n",
       "      <td>0.0</td>\n",
       "      <td>1.0</td>\n",
       "      <td>1.0</td>\n",
       "      <td>0.0</td>\n",
       "      <td>1.0</td>\n",
       "      <td>...</td>\n",
       "      <td>120.0</td>\n",
       "      <td>7.0</td>\n",
       "      <td>0.58</td>\n",
       "      <td>1.0</td>\n",
       "      <td>1.8</td>\n",
       "      <td>0.85</td>\n",
       "      <td>32.0</td>\n",
       "      <td>10.0</td>\n",
       "      <td>18.0</td>\n",
       "      <td>1.0</td>\n",
       "    </tr>\n",
       "    <tr>\n",
       "      <th>2</th>\n",
       "      <td>1.0</td>\n",
       "      <td>0.0</td>\n",
       "      <td>1.0</td>\n",
       "      <td>1.0</td>\n",
       "      <td>0.0</td>\n",
       "      <td>1.0</td>\n",
       "      <td>0.0</td>\n",
       "      <td>1.0</td>\n",
       "      <td>0.0</td>\n",
       "      <td>1.0</td>\n",
       "      <td>...</td>\n",
       "      <td>109.0</td>\n",
       "      <td>7.0</td>\n",
       "      <td>2.10</td>\n",
       "      <td>5.0</td>\n",
       "      <td>13.0</td>\n",
       "      <td>0.10</td>\n",
       "      <td>28.0</td>\n",
       "      <td>6.0</td>\n",
       "      <td>16.0</td>\n",
       "      <td>1.0</td>\n",
       "    </tr>\n",
       "    <tr>\n",
       "      <th>3</th>\n",
       "      <td>1.0</td>\n",
       "      <td>1.0</td>\n",
       "      <td>1.0</td>\n",
       "      <td>0.0</td>\n",
       "      <td>0.0</td>\n",
       "      <td>0.0</td>\n",
       "      <td>0.0</td>\n",
       "      <td>1.0</td>\n",
       "      <td>0.0</td>\n",
       "      <td>1.0</td>\n",
       "      <td>...</td>\n",
       "      <td>174.0</td>\n",
       "      <td>8.1</td>\n",
       "      <td>1.11</td>\n",
       "      <td>2.0</td>\n",
       "      <td>15.7</td>\n",
       "      <td>0.20</td>\n",
       "      <td>131.0</td>\n",
       "      <td>78.0</td>\n",
       "      <td>1316.0</td>\n",
       "      <td>0.0</td>\n",
       "    </tr>\n",
       "    <tr>\n",
       "      <th>4</th>\n",
       "      <td>1.0</td>\n",
       "      <td>1.0</td>\n",
       "      <td>1.0</td>\n",
       "      <td>1.0</td>\n",
       "      <td>0.0</td>\n",
       "      <td>1.0</td>\n",
       "      <td>0.0</td>\n",
       "      <td>1.0</td>\n",
       "      <td>0.0</td>\n",
       "      <td>1.0</td>\n",
       "      <td>...</td>\n",
       "      <td>109.0</td>\n",
       "      <td>6.9</td>\n",
       "      <td>1.80</td>\n",
       "      <td>1.0</td>\n",
       "      <td>9.0</td>\n",
       "      <td>0.10</td>\n",
       "      <td>59.0</td>\n",
       "      <td>15.0</td>\n",
       "      <td>22.0</td>\n",
       "      <td>1.0</td>\n",
       "    </tr>\n",
       "  </tbody>\n",
       "</table>\n",
       "<p>5 rows × 50 columns</p>\n",
       "</div>"
      ],
      "text/plain": [
       "   Gender  Symptoms  Alcohol  HBsAg  HBeAg  HBcAb  HCVAb  Cirrhosis  Endemic  \\\n",
       "0     1.0       0.0      1.0    0.0    0.0    0.0    0.0        1.0      0.0   \n",
       "1     0.0       0.0      0.0    0.0    0.0    0.0    1.0        1.0      0.0   \n",
       "2     1.0       0.0      1.0    1.0    0.0    1.0    0.0        1.0      0.0   \n",
       "3     1.0       1.0      1.0    0.0    0.0    0.0    0.0        1.0      0.0   \n",
       "4     1.0       1.0      1.0    1.0    0.0    1.0    0.0        1.0      0.0   \n",
       "\n",
       "   Smoking  ...    ALP   TP  Creatinine  Nodule  Major_Dim  Dir_Bil   Iron  \\\n",
       "0      1.0  ...  150.0  7.1        0.70     1.0        3.5     0.50   52.5   \n",
       "1      1.0  ...  120.0  7.0        0.58     1.0        1.8     0.85   32.0   \n",
       "2      1.0  ...  109.0  7.0        2.10     5.0       13.0     0.10   28.0   \n",
       "3      1.0  ...  174.0  8.1        1.11     2.0       15.7     0.20  131.0   \n",
       "4      1.0  ...  109.0  6.9        1.80     1.0        9.0     0.10   59.0   \n",
       "\n",
       "    Sat  Ferritin  Class  \n",
       "0  37.0     856.0    1.0  \n",
       "1  10.0      18.0    1.0  \n",
       "2   6.0      16.0    1.0  \n",
       "3  78.0    1316.0    0.0  \n",
       "4  15.0      22.0    1.0  \n",
       "\n",
       "[5 rows x 50 columns]"
      ]
     },
     "execution_count": 8,
     "metadata": {},
     "output_type": "execute_result"
    }
   ],
   "source": [
    "data.head()"
   ]
  },
  {
   "cell_type": "markdown",
   "id": "96c2f559",
   "metadata": {},
   "source": [
    "### spilitting features and labels"
   ]
  },
  {
   "cell_type": "code",
   "execution_count": 9,
   "id": "47c55ae4",
   "metadata": {},
   "outputs": [
    {
     "data": {
      "text/html": [
       "<div>\n",
       "<style scoped>\n",
       "    .dataframe tbody tr th:only-of-type {\n",
       "        vertical-align: middle;\n",
       "    }\n",
       "\n",
       "    .dataframe tbody tr th {\n",
       "        vertical-align: top;\n",
       "    }\n",
       "\n",
       "    .dataframe thead th {\n",
       "        text-align: right;\n",
       "    }\n",
       "</style>\n",
       "<table border=\"1\" class=\"dataframe\">\n",
       "  <thead>\n",
       "    <tr style=\"text-align: right;\">\n",
       "      <th></th>\n",
       "      <th>Gender</th>\n",
       "      <th>Symptoms</th>\n",
       "      <th>Alcohol</th>\n",
       "      <th>HBsAg</th>\n",
       "      <th>HBeAg</th>\n",
       "      <th>HBcAb</th>\n",
       "      <th>HCVAb</th>\n",
       "      <th>Cirrhosis</th>\n",
       "      <th>Endemic</th>\n",
       "      <th>Smoking</th>\n",
       "      <th>...</th>\n",
       "      <th>GGT</th>\n",
       "      <th>ALP</th>\n",
       "      <th>TP</th>\n",
       "      <th>Creatinine</th>\n",
       "      <th>Nodule</th>\n",
       "      <th>Major_Dim</th>\n",
       "      <th>Dir_Bil</th>\n",
       "      <th>Iron</th>\n",
       "      <th>Sat</th>\n",
       "      <th>Ferritin</th>\n",
       "    </tr>\n",
       "  </thead>\n",
       "  <tbody>\n",
       "    <tr>\n",
       "      <th>0</th>\n",
       "      <td>1.0</td>\n",
       "      <td>0.0</td>\n",
       "      <td>1.0</td>\n",
       "      <td>0.0</td>\n",
       "      <td>0.0</td>\n",
       "      <td>0.0</td>\n",
       "      <td>0.0</td>\n",
       "      <td>1.0</td>\n",
       "      <td>0.0</td>\n",
       "      <td>1.0</td>\n",
       "      <td>...</td>\n",
       "      <td>183.0</td>\n",
       "      <td>150.0</td>\n",
       "      <td>7.1</td>\n",
       "      <td>0.70</td>\n",
       "      <td>1.0</td>\n",
       "      <td>3.5</td>\n",
       "      <td>0.50</td>\n",
       "      <td>52.5</td>\n",
       "      <td>37.0</td>\n",
       "      <td>856.0</td>\n",
       "    </tr>\n",
       "    <tr>\n",
       "      <th>1</th>\n",
       "      <td>0.0</td>\n",
       "      <td>0.0</td>\n",
       "      <td>0.0</td>\n",
       "      <td>0.0</td>\n",
       "      <td>0.0</td>\n",
       "      <td>0.0</td>\n",
       "      <td>1.0</td>\n",
       "      <td>1.0</td>\n",
       "      <td>0.0</td>\n",
       "      <td>1.0</td>\n",
       "      <td>...</td>\n",
       "      <td>77.0</td>\n",
       "      <td>120.0</td>\n",
       "      <td>7.0</td>\n",
       "      <td>0.58</td>\n",
       "      <td>1.0</td>\n",
       "      <td>1.8</td>\n",
       "      <td>0.85</td>\n",
       "      <td>32.0</td>\n",
       "      <td>10.0</td>\n",
       "      <td>18.0</td>\n",
       "    </tr>\n",
       "    <tr>\n",
       "      <th>2</th>\n",
       "      <td>1.0</td>\n",
       "      <td>0.0</td>\n",
       "      <td>1.0</td>\n",
       "      <td>1.0</td>\n",
       "      <td>0.0</td>\n",
       "      <td>1.0</td>\n",
       "      <td>0.0</td>\n",
       "      <td>1.0</td>\n",
       "      <td>0.0</td>\n",
       "      <td>1.0</td>\n",
       "      <td>...</td>\n",
       "      <td>202.0</td>\n",
       "      <td>109.0</td>\n",
       "      <td>7.0</td>\n",
       "      <td>2.10</td>\n",
       "      <td>5.0</td>\n",
       "      <td>13.0</td>\n",
       "      <td>0.10</td>\n",
       "      <td>28.0</td>\n",
       "      <td>6.0</td>\n",
       "      <td>16.0</td>\n",
       "    </tr>\n",
       "    <tr>\n",
       "      <th>3</th>\n",
       "      <td>1.0</td>\n",
       "      <td>1.0</td>\n",
       "      <td>1.0</td>\n",
       "      <td>0.0</td>\n",
       "      <td>0.0</td>\n",
       "      <td>0.0</td>\n",
       "      <td>0.0</td>\n",
       "      <td>1.0</td>\n",
       "      <td>0.0</td>\n",
       "      <td>1.0</td>\n",
       "      <td>...</td>\n",
       "      <td>94.0</td>\n",
       "      <td>174.0</td>\n",
       "      <td>8.1</td>\n",
       "      <td>1.11</td>\n",
       "      <td>2.0</td>\n",
       "      <td>15.7</td>\n",
       "      <td>0.20</td>\n",
       "      <td>131.0</td>\n",
       "      <td>78.0</td>\n",
       "      <td>1316.0</td>\n",
       "    </tr>\n",
       "    <tr>\n",
       "      <th>4</th>\n",
       "      <td>1.0</td>\n",
       "      <td>1.0</td>\n",
       "      <td>1.0</td>\n",
       "      <td>1.0</td>\n",
       "      <td>0.0</td>\n",
       "      <td>1.0</td>\n",
       "      <td>0.0</td>\n",
       "      <td>1.0</td>\n",
       "      <td>0.0</td>\n",
       "      <td>1.0</td>\n",
       "      <td>...</td>\n",
       "      <td>173.0</td>\n",
       "      <td>109.0</td>\n",
       "      <td>6.9</td>\n",
       "      <td>1.80</td>\n",
       "      <td>1.0</td>\n",
       "      <td>9.0</td>\n",
       "      <td>0.10</td>\n",
       "      <td>59.0</td>\n",
       "      <td>15.0</td>\n",
       "      <td>22.0</td>\n",
       "    </tr>\n",
       "  </tbody>\n",
       "</table>\n",
       "<p>5 rows × 49 columns</p>\n",
       "</div>"
      ],
      "text/plain": [
       "   Gender  Symptoms  Alcohol  HBsAg  HBeAg  HBcAb  HCVAb  Cirrhosis  Endemic  \\\n",
       "0     1.0       0.0      1.0    0.0    0.0    0.0    0.0        1.0      0.0   \n",
       "1     0.0       0.0      0.0    0.0    0.0    0.0    1.0        1.0      0.0   \n",
       "2     1.0       0.0      1.0    1.0    0.0    1.0    0.0        1.0      0.0   \n",
       "3     1.0       1.0      1.0    0.0    0.0    0.0    0.0        1.0      0.0   \n",
       "4     1.0       1.0      1.0    1.0    0.0    1.0    0.0        1.0      0.0   \n",
       "\n",
       "   Smoking  ...    GGT    ALP   TP  Creatinine  Nodule  Major_Dim  Dir_Bil  \\\n",
       "0      1.0  ...  183.0  150.0  7.1        0.70     1.0        3.5     0.50   \n",
       "1      1.0  ...   77.0  120.0  7.0        0.58     1.0        1.8     0.85   \n",
       "2      1.0  ...  202.0  109.0  7.0        2.10     5.0       13.0     0.10   \n",
       "3      1.0  ...   94.0  174.0  8.1        1.11     2.0       15.7     0.20   \n",
       "4      1.0  ...  173.0  109.0  6.9        1.80     1.0        9.0     0.10   \n",
       "\n",
       "    Iron   Sat  Ferritin  \n",
       "0   52.5  37.0     856.0  \n",
       "1   32.0  10.0      18.0  \n",
       "2   28.0   6.0      16.0  \n",
       "3  131.0  78.0    1316.0  \n",
       "4   59.0  15.0      22.0  \n",
       "\n",
       "[5 rows x 49 columns]"
      ]
     },
     "execution_count": 9,
     "metadata": {},
     "output_type": "execute_result"
    }
   ],
   "source": [
    "X = data.iloc[:,:-1]  # all features of the dataset \n",
    "X.head()"
   ]
  },
  {
   "cell_type": "code",
   "execution_count": 10,
   "id": "4a608753",
   "metadata": {},
   "outputs": [
    {
     "data": {
      "text/plain": [
       "0    1\n",
       "1    1\n",
       "2    1\n",
       "3    0\n",
       "4    1\n",
       "Name: Class, dtype: object"
      ]
     },
     "execution_count": 10,
     "metadata": {},
     "output_type": "execute_result"
    }
   ],
   "source": [
    "Y = hcc.iloc[:,-1]  # target label (0 or 1)\n",
    "Y.head()"
   ]
  },
  {
   "cell_type": "code",
   "execution_count": 11,
   "id": "d8edcca8",
   "metadata": {},
   "outputs": [
    {
     "data": {
      "text/plain": [
       "0      1\n",
       "1      1\n",
       "2      1\n",
       "3      0\n",
       "4      1\n",
       "      ..\n",
       "199    0\n",
       "200    0\n",
       "201    0\n",
       "202    0\n",
       "203    0\n",
       "Name: Class, Length: 204, dtype: int32"
      ]
     },
     "execution_count": 11,
     "metadata": {},
     "output_type": "execute_result"
    }
   ],
   "source": [
    "y = Y.astype(int)\n",
    "y"
   ]
  },
  {
   "cell_type": "code",
   "execution_count": 12,
   "id": "d6e8a3d3",
   "metadata": {},
   "outputs": [
    {
     "name": "stdout",
     "output_type": "stream",
     "text": [
      "     Gender  Symptoms  Alcohol  HBsAg  HBeAg  HBcAb  HCVAb  Cirrhosis  \\\n",
      "0       1.0       0.0      1.0    0.0    0.0    0.0    0.0        1.0   \n",
      "1       0.0       0.0      0.0    0.0    0.0    0.0    1.0        1.0   \n",
      "2       1.0       0.0      1.0    1.0    0.0    1.0    0.0        1.0   \n",
      "3       1.0       1.0      1.0    0.0    0.0    0.0    0.0        1.0   \n",
      "4       1.0       1.0      1.0    1.0    0.0    1.0    0.0        1.0   \n",
      "..      ...       ...      ...    ...    ...    ...    ...        ...   \n",
      "199     0.0       0.0      0.0    0.0    0.0    0.0    1.0        1.0   \n",
      "200     0.0       1.0      1.0    0.0    0.0    0.0    0.0        1.0   \n",
      "201     1.0       1.0      1.0    0.0    0.0    0.0    0.0        1.0   \n",
      "202     1.0       1.0      1.0    0.0    0.0    0.0    0.0        1.0   \n",
      "203     0.0       1.0      0.0    0.0    0.0    0.0    0.0        0.0   \n",
      "\n",
      "     Endemic  Smoking  ...    GGT    ALP   TP  Creatinine  Nodule  Major_Dim  \\\n",
      "0        0.0      1.0  ...  183.0  150.0  7.1        0.70     1.0        3.5   \n",
      "1        0.0      1.0  ...   77.0  120.0  7.0        0.58     1.0        1.8   \n",
      "2        0.0      1.0  ...  202.0  109.0  7.0        2.10     5.0       13.0   \n",
      "3        0.0      1.0  ...   94.0  174.0  8.1        1.11     2.0       15.7   \n",
      "4        0.0      1.0  ...  173.0  109.0  6.9        1.80     1.0        9.0   \n",
      "..       ...      ...  ...    ...    ...  ...         ...     ...        ...   \n",
      "199      0.0      0.0  ...  389.0  117.0  7.0        5.25     2.0        8.8   \n",
      "200      0.0      0.0  ...  229.0  231.0  6.5        0.78     2.0        7.6   \n",
      "201      0.0      0.0  ...  469.0  304.0  7.0        1.07     1.0       12.0   \n",
      "202      0.0      0.0  ...  203.0  197.0  7.2        1.08     5.0        3.0   \n",
      "203      0.0      0.0  ...  730.0  579.0  7.2        2.13     5.0       16.1   \n",
      "\n",
      "     Dir_Bil   Iron   Sat  Ferritin  \n",
      "0       0.50   52.5  37.0     856.0  \n",
      "1       0.85   32.0  10.0      18.0  \n",
      "2       0.10   28.0   6.0      16.0  \n",
      "3       0.20  131.0  78.0    1316.0  \n",
      "4       0.10   59.0  15.0      22.0  \n",
      "..       ...    ...   ...       ...  \n",
      "199     1.35   73.3  46.0     873.0  \n",
      "200     1.04   69.3  23.0      70.0  \n",
      "201     1.57   71.2  29.0     106.0  \n",
      "202     0.63   94.4  83.0     859.0  \n",
      "203     0.11   14.6   5.0     161.0  \n",
      "\n",
      "[204 rows x 49 columns]\n",
      "0      1\n",
      "1      1\n",
      "2      1\n",
      "3      0\n",
      "4      1\n",
      "      ..\n",
      "199    0\n",
      "200    0\n",
      "201    0\n",
      "202    0\n",
      "203    0\n",
      "Name: Class, Length: 204, dtype: object\n"
     ]
    }
   ],
   "source": [
    "print(X)\n",
    "print(Y)"
   ]
  },
  {
   "cell_type": "code",
   "execution_count": null,
   "id": "69927682",
   "metadata": {},
   "outputs": [],
   "source": []
  },
  {
   "cell_type": "code",
   "execution_count": null,
   "id": "6dbd0d60",
   "metadata": {},
   "outputs": [],
   "source": []
  },
  {
   "cell_type": "markdown",
   "id": "3dbd8b6e",
   "metadata": {},
   "source": [
    "### Scaling the dataset"
   ]
  },
  {
   "cell_type": "code",
   "execution_count": 13,
   "id": "2749c39f",
   "metadata": {},
   "outputs": [
    {
     "name": "stderr",
     "output_type": "stream",
     "text": [
      "C:\\Users\\Devi C Arati\\AppData\\Local\\Temp\\ipykernel_10124\\4253215154.py:12: SettingWithCopyWarning: \n",
      "A value is trying to be set on a copy of a slice from a DataFrame.\n",
      "Try using .loc[row_indexer,col_indexer] = value instead\n",
      "\n",
      "See the caveats in the documentation: https://pandas.pydata.org/pandas-docs/stable/user_guide/indexing.html#returning-a-view-versus-a-copy\n",
      "  X[numvars] = scaler.fit_transform(X)\n"
     ]
    }
   ],
   "source": [
    "from sklearn.preprocessing import MinMaxScaler\n",
    "scaler = MinMaxScaler()\n",
    "numvars = ['Gender', 'Symptoms', 'Alcohol', 'HBsAg', 'HBeAg', 'HBcAb', 'HCVAb',\n",
    "       'Cirrhosis', 'Endemic', 'Smoking', 'Diabetes', 'Obesity', 'Hemochro',\n",
    "       'AHT', 'CRI', 'HIV', 'NASH', 'Varices', 'Spleno', 'PHT', 'PVT',\n",
    "       'Metastasis', 'Hallmark', 'Age', 'Grams_day', 'Packs_year', 'PS',\n",
    "       'Encephalopathy', 'Ascites', 'INR', 'AFP', 'Hemoglobin', 'MCV',\n",
    "       'Leucocytes', 'Platelets', 'Albumin', 'Total_Bil', 'ALT', 'AST', 'GGT',\n",
    "       'ALP', 'TP', 'Creatinine', 'Nodule', 'Major_Dim', 'Dir_Bil', 'Iron',\n",
    "       'Sat', 'Ferritin']\n",
    "scaler = MinMaxScaler()\n",
    "X[numvars] = scaler.fit_transform(X)"
   ]
  },
  {
   "cell_type": "code",
   "execution_count": 14,
   "id": "6e7666b5",
   "metadata": {},
   "outputs": [],
   "source": [
    "from sklearn.model_selection import train_test_split\n",
    "\n",
    "X_train, X_test, y_train, y_test = train_test_split(X, y, test_size=0.2, random_state=0)"
   ]
  },
  {
   "cell_type": "markdown",
   "id": "104f5700",
   "metadata": {},
   "source": [
    "# LDA  ---- dimensionality reduction"
   ]
  },
  {
   "cell_type": "code",
   "execution_count": 15,
   "id": "47b1d420",
   "metadata": {},
   "outputs": [],
   "source": [
    "from sklearn.discriminant_analysis import LinearDiscriminantAnalysis as LDA"
   ]
  },
  {
   "cell_type": "code",
   "execution_count": 16,
   "id": "46682879",
   "metadata": {},
   "outputs": [],
   "source": [
    "lda = LDA(n_components=1)\n",
    "X_train = lda.fit_transform(X_train, y_train)\n",
    "X_test = lda.transform(X_test)"
   ]
  },
  {
   "cell_type": "markdown",
   "id": "9425513a",
   "metadata": {},
   "source": [
    "LDA -SVM"
   ]
  },
  {
   "cell_type": "code",
   "execution_count": 17,
   "id": "cff06891",
   "metadata": {},
   "outputs": [],
   "source": [
    "#Import svm model\n",
    "from sklearn import svm"
   ]
  },
  {
   "cell_type": "code",
   "execution_count": 234,
   "id": "403240b0",
   "metadata": {},
   "outputs": [],
   "source": [
    "#Create a svm Classifier\n",
    "clf = svm.SVC(C=20,kernel='sigmoid') # Polynomial Kernel\n",
    "\n",
    "#Train the model using the training sets\n",
    "clf.fit(X_train, y_train)\n",
    "\n",
    "#Predict the response for test dataset\n",
    "y_pred = clf.predict(X_test)"
   ]
  },
  {
   "cell_type": "code",
   "execution_count": 235,
   "id": "0f975ab4",
   "metadata": {},
   "outputs": [
    {
     "name": "stdout",
     "output_type": "stream",
     "text": [
      "f1 score :  0.6341463414634146\n",
      "precision :  0.6345238095238095\n",
      "recall :  0.6345238095238095\n",
      "accuracy: 0.6341463414634146\n"
     ]
    }
   ],
   "source": [
    "from sklearn.datasets import make_classification\n",
    "from sklearn.metrics import accuracy_score, f1_score, precision_score, recall_score, classification_report, confusion_matrix,ConfusionMatrixDisplay\n",
    "\n",
    "print(\"f1 score : \",f1_score(y_test, y_pred, average=\"macro\"))\n",
    "print(\"precision : \",precision_score(y_test, y_pred, average=\"macro\"))\n",
    "print(\"recall : \",recall_score(y_test, y_pred, average=\"macro\"))  \n",
    "print(\"accuracy:\",accuracy_score(y_test, y_pred))"
   ]
  },
  {
   "cell_type": "code",
   "execution_count": 236,
   "id": "1a7764a3",
   "metadata": {},
   "outputs": [
    {
     "name": "stdout",
     "output_type": "stream",
     "text": [
      "[[13  8]\n",
      " [ 7 13]]\n",
      "Accuracy0.6341463414634146\n"
     ]
    }
   ],
   "source": [
    "from sklearn.metrics import confusion_matrix\n",
    "from sklearn.metrics import accuracy_score\n",
    "\n",
    "cm = confusion_matrix(y_test, y_pred)\n",
    "print(cm)\n",
    "print('Accuracy' + str(accuracy_score(y_test, y_pred)))"
   ]
  },
  {
   "cell_type": "code",
   "execution_count": 197,
   "id": "24fe9c85",
   "metadata": {},
   "outputs": [],
   "source": [
    "# Fit the LDA model\n",
    "# model = LinearDiscriminantAnalysis()\n",
    "# model.fit(X, Y)"
   ]
  },
  {
   "cell_type": "code",
   "execution_count": 237,
   "id": "cece6c9e",
   "metadata": {},
   "outputs": [
    {
     "data": {
      "image/png": "[encoded data removed]",
      "text/plain": [
       "<Figure size 600x600 with 1 Axes>"
      ]
     },
     "metadata": {
      "needs_background": "light"
     },
     "output_type": "display_data"
    }
   ],
   "source": [
    "from sklearn import metrics\n",
    "auc = metrics.roc_auc_score(y_test, y_pred)\n",
    "\n",
    "false_positive_rate, true_positive_rate, thresolds = metrics.roc_curve(y_test, y_pred)\n",
    "\n",
    "plt.figure(figsize=(6, 6), dpi=100)\n",
    "plt.axis('scaled')\n",
    "plt.xlim([0, 1])\n",
    "plt.ylim([0, 1])\n",
    "plt.title(\"AUC & ROC Curve\")\n",
    "plt.plot(false_positive_rate, true_positive_rate,'--' )\n",
    "plt.fill_between(false_positive_rate, true_positive_rate, facecolor='lightblue', alpha=0.7)\n",
    "plt.text(0.95, 0.05, 'AUC = %0.4f' % auc, ha='right', fontsize=12, weight='bold', color='blue')\n",
    "plt.xlabel(\"False Positive Rate\")\n",
    "plt.ylabel(\"True Positive Rate\")\n",
    "plt.show()"
   ]
  },
  {
   "cell_type": "markdown",
   "id": "ce9dee2d",
   "metadata": {},
   "source": [
    "## PCA using SVD"
   ]
  },
  {
   "cell_type": "code",
   "execution_count": 23,
   "id": "b6651a97",
   "metadata": {},
   "outputs": [
    {
     "name": "stderr",
     "output_type": "stream",
     "text": [
      "C:\\Users\\Devi C Arati\\anaconda3\\lib\\site-packages\\numpy\\core\\fromnumeric.py:3438: FutureWarning: In a future version, DataFrame.mean(axis=None) will return a scalar mean over the entire DataFrame. To retain the old behavior, use 'frame.mean(axis=0)' or just 'frame.mean()'\n",
      "  return mean(axis=axis, dtype=dtype, out=out, **kwargs)\n"
     ]
    }
   ],
   "source": [
    "### PCA using SVD\n",
    "\n",
    "X_centered = X - np.mean(X)\n",
    "X_c = 1/(X.shape[0] - 1) * np.dot(np.transpose(X_centered), X_centered)\n",
    "u, s, vt = np.linalg.svd(X_c, full_matrices = False)"
   ]
  },
  {
   "cell_type": "code",
   "execution_count": 24,
   "id": "7ea65fae",
   "metadata": {},
   "outputs": [
    {
     "data": {
      "text/plain": [
       "array([[ 1.64300203e-01,  9.99710229e-03,  8.01217039e-02, ...,\n",
       "         2.40241571e-02,  2.53987802e-02,  2.13013515e-02],\n",
       "       [ 9.99710229e-03,  2.14503043e-01, -7.89626195e-03, ...,\n",
       "         1.75706058e-04,  9.66553288e-03,  1.53783234e-02],\n",
       "       [ 8.01217039e-02, -7.89626195e-03,  2.02332657e-01, ...,\n",
       "         1.60067152e-02,  1.71973962e-02,  2.64125366e-03],\n",
       "       ...,\n",
       "       [ 2.40241571e-02,  1.75706058e-04,  1.60067152e-02, ...,\n",
       "         6.11799043e-02,  4.50090165e-02,  9.18848550e-03],\n",
       "       [ 2.53987802e-02,  9.66553288e-03,  1.71973962e-02, ...,\n",
       "         4.50090165e-02,  5.24087403e-02,  2.19623705e-02],\n",
       "       [ 2.13013515e-02,  1.53783234e-02,  2.64125366e-03, ...,\n",
       "         9.18848550e-03,  2.19623705e-02,  3.90104823e-02]])"
      ]
     },
     "execution_count": 24,
     "metadata": {},
     "output_type": "execute_result"
    }
   ],
   "source": [
    "X_c"
   ]
  },
  {
   "cell_type": "code",
   "execution_count": 25,
   "id": "aa65aab5",
   "metadata": {},
   "outputs": [
    {
     "name": "stdout",
     "output_type": "stream",
     "text": [
      "S :  [7.21046728e-01 4.22332465e-01 3.65837891e-01 3.25698509e-01\n",
      " 2.63801318e-01 2.32863270e-01 2.03575514e-01 1.91614692e-01\n",
      " 1.62261393e-01 1.46124477e-01 1.39968550e-01 1.29210953e-01\n",
      " 1.11915489e-01 1.09193933e-01 9.89042547e-02 9.13694899e-02\n",
      " 7.87185581e-02 7.25158481e-02 6.48432736e-02 5.31274283e-02\n",
      " 5.04479331e-02 4.99029942e-02 4.74525419e-02 4.32313713e-02\n",
      " 3.88607379e-02 3.77887749e-02 3.40064731e-02 2.84304056e-02\n",
      " 2.73270119e-02 2.46663043e-02 2.22893867e-02 2.08598301e-02\n",
      " 1.85420666e-02 1.72006452e-02 1.66119416e-02 1.41281604e-02\n",
      " 1.23278162e-02 1.00087154e-02 8.43175250e-03 7.40307912e-03\n",
      " 6.16322309e-03 5.55201413e-03 4.73465077e-03 4.32868455e-03\n",
      " 3.91014288e-03 3.68569813e-03 2.99806844e-03 2.52362151e-03\n",
      " 3.40135038e-04]\n",
      "\n",
      "D :  [1.58503920e+01 9.28391303e+00 8.04202243e+00 7.15965947e+00\n",
      " 5.79900599e+00 5.11891111e+00 4.47509373e+00 4.21216525e+00\n",
      " 3.56690709e+00 3.21217771e+00 3.07685521e+00 2.84037659e+00\n",
      " 2.46017948e+00 2.40035295e+00 2.17416035e+00 2.00852757e+00\n",
      " 1.73042877e+00 1.59407785e+00 1.42541567e+00 1.16787239e+00\n",
      " 1.10897045e+00 1.09699134e+00 1.04312434e+00 9.50332556e-01\n",
      " 8.54255215e-01 8.30690815e-01 7.47546458e-01 6.24970692e-01\n",
      " 6.00715367e-01 5.42226428e-01 4.89975894e-01 4.58550703e-01\n",
      " 4.07600523e-01 3.78112761e-01 3.65171598e-01 3.10571939e-01\n",
      " 2.70995917e-01 2.20016340e-01 1.85350792e-01 1.62738005e-01\n",
      " 1.35482900e-01 1.22047014e-01 1.04079344e-01 9.51552017e-02\n",
      " 8.59546196e-02 8.10207686e-02 6.59049657e-02 5.54754477e-02\n",
      " 7.47701010e-03]\n",
      "Max(s) :  0.7210467284102232\n",
      "Min(s) :  0.0003401350375851725\n",
      "Max(D) :  15.85039197351823\n",
      "Min(D) :  0.007477010098276316\n"
     ]
    }
   ],
   "source": [
    "D = s\n",
    "D = (D/D.sum())*100\n",
    "\n",
    "print('S : ',s)\n",
    "print('\\nD : ', D)\n",
    "print('Max(s) : ', s.max())\n",
    "print('Min(s) : ', s.min())\n",
    "print('Max(D) : ', D.max())\n",
    "print('Min(D) : ', D.min())"
   ]
  },
  {
   "cell_type": "code",
   "execution_count": 26,
   "id": "b1b9e12f",
   "metadata": {},
   "outputs": [
    {
     "data": {
      "text/plain": [
       "<matplotlib.legend.Legend at 0x288d85624f0>"
      ]
     },
     "execution_count": 26,
     "metadata": {},
     "output_type": "execute_result"
    },
    {
     "data": {
      "image/png": "[encoded data removed]",
      "text/plain": [
       "<Figure size 720x432 with 1 Axes>"
      ]
     },
     "metadata": {
      "needs_background": "light"
     },
     "output_type": "display_data"
    }
   ],
   "source": [
    "fig = plt.subplots(1,figsize=(10,6))\n",
    "plt.subplot(211)\n",
    "plt.xlabel('Number of components')\n",
    "plt.ylabel('Singular values (S)')\n",
    "plt.title('Scree plot')\n",
    "\n",
    "plt.plot(D,'o')\n",
    "plt.legend('Singular values')"
   ]
  },
  {
   "cell_type": "code",
   "execution_count": 27,
   "id": "07b23936",
   "metadata": {},
   "outputs": [],
   "source": [
    "# Considering the elbow point to be 8 from the scree plot"
   ]
  },
  {
   "cell_type": "code",
   "execution_count": 35,
   "id": "6e4c46b2",
   "metadata": {},
   "outputs": [
    {
     "data": {
      "text/html": [
       "<div>\n",
       "<style scoped>\n",
       "    .dataframe tbody tr th:only-of-type {\n",
       "        vertical-align: middle;\n",
       "    }\n",
       "\n",
       "    .dataframe tbody tr th {\n",
       "        vertical-align: top;\n",
       "    }\n",
       "\n",
       "    .dataframe thead th {\n",
       "        text-align: right;\n",
       "    }\n",
       "</style>\n",
       "<table border=\"1\" class=\"dataframe\">\n",
       "  <thead>\n",
       "    <tr style=\"text-align: right;\">\n",
       "      <th></th>\n",
       "      <th>pc1</th>\n",
       "      <th>pc2</th>\n",
       "      <th>pc3</th>\n",
       "      <th>pc4</th>\n",
       "      <th>pc5</th>\n",
       "      <th>pc6</th>\n",
       "      <th>pc7</th>\n",
       "      <th>pc8</th>\n",
       "      <th>pc9</th>\n",
       "      <th>pc10</th>\n",
       "    </tr>\n",
       "  </thead>\n",
       "  <tbody>\n",
       "    <tr>\n",
       "      <th>0</th>\n",
       "      <td>0.162442</td>\n",
       "      <td>-0.629973</td>\n",
       "      <td>-1.146861</td>\n",
       "      <td>0.000550</td>\n",
       "      <td>0.439264</td>\n",
       "      <td>-0.400459</td>\n",
       "      <td>-0.054846</td>\n",
       "      <td>-0.223027</td>\n",
       "      <td>0.341841</td>\n",
       "      <td>0.137175</td>\n",
       "    </tr>\n",
       "    <tr>\n",
       "      <th>1</th>\n",
       "      <td>0.825106</td>\n",
       "      <td>-0.256468</td>\n",
       "      <td>-1.117247</td>\n",
       "      <td>0.087155</td>\n",
       "      <td>-0.864338</td>\n",
       "      <td>-0.167709</td>\n",
       "      <td>-0.558583</td>\n",
       "      <td>-0.122507</td>\n",
       "      <td>-0.442626</td>\n",
       "      <td>0.317589</td>\n",
       "    </tr>\n",
       "    <tr>\n",
       "      <th>2</th>\n",
       "      <td>0.182621</td>\n",
       "      <td>-0.329224</td>\n",
       "      <td>0.667420</td>\n",
       "      <td>0.629155</td>\n",
       "      <td>0.059692</td>\n",
       "      <td>-0.511092</td>\n",
       "      <td>0.563964</td>\n",
       "      <td>-0.386887</td>\n",
       "      <td>-0.979362</td>\n",
       "      <td>0.544750</td>\n",
       "    </tr>\n",
       "    <tr>\n",
       "      <th>3</th>\n",
       "      <td>0.907619</td>\n",
       "      <td>-1.028135</td>\n",
       "      <td>0.337259</td>\n",
       "      <td>0.715361</td>\n",
       "      <td>0.185362</td>\n",
       "      <td>-0.465693</td>\n",
       "      <td>-0.240251</td>\n",
       "      <td>-0.450746</td>\n",
       "      <td>0.139717</td>\n",
       "      <td>-0.423258</td>\n",
       "    </tr>\n",
       "    <tr>\n",
       "      <th>4</th>\n",
       "      <td>0.707936</td>\n",
       "      <td>-0.185357</td>\n",
       "      <td>0.140857</td>\n",
       "      <td>1.190873</td>\n",
       "      <td>0.365239</td>\n",
       "      <td>-0.321138</td>\n",
       "      <td>0.489991</td>\n",
       "      <td>0.635936</td>\n",
       "      <td>-0.669928</td>\n",
       "      <td>-0.014346</td>\n",
       "    </tr>\n",
       "    <tr>\n",
       "      <th>...</th>\n",
       "      <td>...</td>\n",
       "      <td>...</td>\n",
       "      <td>...</td>\n",
       "      <td>...</td>\n",
       "      <td>...</td>\n",
       "      <td>...</td>\n",
       "      <td>...</td>\n",
       "      <td>...</td>\n",
       "      <td>...</td>\n",
       "      <td>...</td>\n",
       "    </tr>\n",
       "    <tr>\n",
       "      <th>199</th>\n",
       "      <td>0.570544</td>\n",
       "      <td>0.513244</td>\n",
       "      <td>-1.136806</td>\n",
       "      <td>-0.532396</td>\n",
       "      <td>-1.260209</td>\n",
       "      <td>0.330673</td>\n",
       "      <td>-0.015739</td>\n",
       "      <td>-0.435035</td>\n",
       "      <td>0.588540</td>\n",
       "      <td>0.307933</td>\n",
       "    </tr>\n",
       "    <tr>\n",
       "      <th>200</th>\n",
       "      <td>0.433362</td>\n",
       "      <td>-0.383604</td>\n",
       "      <td>0.326540</td>\n",
       "      <td>-0.671616</td>\n",
       "      <td>0.162891</td>\n",
       "      <td>-0.315232</td>\n",
       "      <td>-0.090635</td>\n",
       "      <td>0.644356</td>\n",
       "      <td>0.617257</td>\n",
       "      <td>0.764449</td>\n",
       "    </tr>\n",
       "    <tr>\n",
       "      <th>201</th>\n",
       "      <td>0.262183</td>\n",
       "      <td>-0.107736</td>\n",
       "      <td>0.306222</td>\n",
       "      <td>-0.356813</td>\n",
       "      <td>0.763042</td>\n",
       "      <td>-0.417377</td>\n",
       "      <td>0.243509</td>\n",
       "      <td>0.683984</td>\n",
       "      <td>0.321821</td>\n",
       "      <td>-0.039108</td>\n",
       "    </tr>\n",
       "    <tr>\n",
       "      <th>202</th>\n",
       "      <td>-0.336368</td>\n",
       "      <td>-1.064904</td>\n",
       "      <td>0.823925</td>\n",
       "      <td>-0.382916</td>\n",
       "      <td>-0.910626</td>\n",
       "      <td>0.007617</td>\n",
       "      <td>0.318735</td>\n",
       "      <td>-0.258442</td>\n",
       "      <td>0.217745</td>\n",
       "      <td>-0.253567</td>\n",
       "    </tr>\n",
       "    <tr>\n",
       "      <th>203</th>\n",
       "      <td>1.885794</td>\n",
       "      <td>0.062281</td>\n",
       "      <td>1.009571</td>\n",
       "      <td>-0.349081</td>\n",
       "      <td>-0.552051</td>\n",
       "      <td>0.111709</td>\n",
       "      <td>-0.453940</td>\n",
       "      <td>0.081551</td>\n",
       "      <td>-0.342145</td>\n",
       "      <td>-0.124475</td>\n",
       "    </tr>\n",
       "  </tbody>\n",
       "</table>\n",
       "<p>204 rows × 10 columns</p>\n",
       "</div>"
      ],
      "text/plain": [
       "          pc1       pc2       pc3       pc4       pc5       pc6       pc7  \\\n",
       "0    0.162442 -0.629973 -1.146861  0.000550  0.439264 -0.400459 -0.054846   \n",
       "1    0.825106 -0.256468 -1.117247  0.087155 -0.864338 -0.167709 -0.558583   \n",
       "2    0.182621 -0.329224  0.667420  0.629155  0.059692 -0.511092  0.563964   \n",
       "3    0.907619 -1.028135  0.337259  0.715361  0.185362 -0.465693 -0.240251   \n",
       "4    0.707936 -0.185357  0.140857  1.190873  0.365239 -0.321138  0.489991   \n",
       "..        ...       ...       ...       ...       ...       ...       ...   \n",
       "199  0.570544  0.513244 -1.136806 -0.532396 -1.260209  0.330673 -0.015739   \n",
       "200  0.433362 -0.383604  0.326540 -0.671616  0.162891 -0.315232 -0.090635   \n",
       "201  0.262183 -0.107736  0.306222 -0.356813  0.763042 -0.417377  0.243509   \n",
       "202 -0.336368 -1.064904  0.823925 -0.382916 -0.910626  0.007617  0.318735   \n",
       "203  1.885794  0.062281  1.009571 -0.349081 -0.552051  0.111709 -0.453940   \n",
       "\n",
       "          pc8       pc9      pc10  \n",
       "0   -0.223027  0.341841  0.137175  \n",
       "1   -0.122507 -0.442626  0.317589  \n",
       "2   -0.386887 -0.979362  0.544750  \n",
       "3   -0.450746  0.139717 -0.423258  \n",
       "4    0.635936 -0.669928 -0.014346  \n",
       "..        ...       ...       ...  \n",
       "199 -0.435035  0.588540  0.307933  \n",
       "200  0.644356  0.617257  0.764449  \n",
       "201  0.683984  0.321821 -0.039108  \n",
       "202 -0.258442  0.217745 -0.253567  \n",
       "203  0.081551 -0.342145 -0.124475  \n",
       "\n",
       "[204 rows x 10 columns]"
      ]
     },
     "execution_count": 35,
     "metadata": {},
     "output_type": "execute_result"
    }
   ],
   "source": [
    "X_10pcs = (X_centered @ vt[:10].T).rename(columns = {0: 'pc1', 1: 'pc2',2: 'pc3',3: 'pc4',4: 'pc5',5: 'pc6', 6:'pc7', 7:'pc8',8:'pc9',9:'pc10'})\n",
    "X_10pcs"
   ]
  },
  {
   "cell_type": "code",
   "execution_count": 36,
   "id": "71f861e1",
   "metadata": {},
   "outputs": [],
   "source": [
    "# 'X_10pcs' is the new reduced set of features"
   ]
  },
  {
   "cell_type": "markdown",
   "id": "ac8fd54e",
   "metadata": {},
   "source": [
    "# SVM on the dataset"
   ]
  },
  {
   "cell_type": "markdown",
   "id": "2d9cb695",
   "metadata": {},
   "source": [
    "## Before dimensionality reduction"
   ]
  },
  {
   "cell_type": "code",
   "execution_count": 37,
   "id": "caf2f34d",
   "metadata": {},
   "outputs": [],
   "source": [
    "X_train, X_test, y_train, y_test = train_test_split(X, y, test_size=0.2, random_state=0)"
   ]
  },
  {
   "cell_type": "code",
   "execution_count": 38,
   "id": "242d63d3",
   "metadata": {},
   "outputs": [
    {
     "name": "stdout",
     "output_type": "stream",
     "text": [
      "Duration: 0:00:00.003975\n"
     ]
    }
   ],
   "source": [
    "from datetime import datetime\n",
    "start_time = datetime.now()\n",
    "\n",
    "#Create a svm Classifier\n",
    "clf = svm.SVC(C=15,kernel='rbf') # Polynomial Kernel\n",
    "\n",
    "#Train the model using the training sets\n",
    "clf.fit(X_train, y_train)\n",
    "\n",
    "#Predict the response for test dataset\n",
    "y_pred = clf.predict(X_test)\n",
    "\n",
    "end_time = datetime.now()\n",
    "print('Duration: {}'.format(end_time - start_time))"
   ]
  },
  {
   "cell_type": "code",
   "execution_count": 39,
   "id": "2a365e13",
   "metadata": {},
   "outputs": [
    {
     "name": "stdout",
     "output_type": "stream",
     "text": [
      "f1 score :  0.8528708133971292\n",
      "precision :  0.857487922705314\n",
      "recall :  0.8523809523809525\n",
      "accuracy: 0.8536585365853658\n"
     ]
    }
   ],
   "source": [
    "from sklearn.datasets import make_classification\n",
    "from sklearn.metrics import accuracy_score, f1_score, precision_score, recall_score, classification_report, confusion_matrix,ConfusionMatrixDisplay\n",
    "\n",
    "print(\"f1 score : \",f1_score(y_test, y_pred, average=\"macro\"))\n",
    "print(\"precision : \",precision_score(y_test, y_pred, average=\"macro\"))\n",
    "print(\"recall : \",recall_score(y_test, y_pred, average=\"macro\"))  \n",
    "print(\"accuracy:\",accuracy_score(y_test, y_pred))"
   ]
  },
  {
   "cell_type": "code",
   "execution_count": null,
   "id": "0388bc00",
   "metadata": {},
   "outputs": [],
   "source": []
  },
  {
   "cell_type": "markdown",
   "id": "7d814345",
   "metadata": {},
   "source": [
    "## After dimensionality Reduction (PCA-SVM)"
   ]
  },
  {
   "cell_type": "code",
   "execution_count": 222,
   "id": "9e22494c",
   "metadata": {},
   "outputs": [],
   "source": [
    "X_train, X_test, y_train, y_test = train_test_split(X_10pcs, y, test_size=0.2, random_state=0)"
   ]
  },
  {
   "cell_type": "code",
   "execution_count": 248,
   "id": "bba18167",
   "metadata": {},
   "outputs": [
    {
     "name": "stdout",
     "output_type": "stream",
     "text": [
      "Duration: 0:00:00.003000\n"
     ]
    }
   ],
   "source": [
    "start_time = datetime.now()\n",
    "\n",
    "#Create a svm Classifier\n",
    "clf = svm.SVC(C=8,kernel='poly') # Polynomial Kernel\n",
    "\n",
    "#Train the model using the training sets\n",
    "clf.fit(X_train, y_train)\n",
    "\n",
    "#Predict the response for test dataset\n",
    "y_pred_pca = clf.predict(X_test)\n",
    "\n",
    "end_time = datetime.now()\n",
    "print('Duration: {}'.format(end_time - start_time))"
   ]
  },
  {
   "cell_type": "code",
   "execution_count": 249,
   "id": "5e65ec8b",
   "metadata": {},
   "outputs": [
    {
     "name": "stdout",
     "output_type": "stream",
     "text": [
      "f1 score :  0.7317073170731706\n",
      "precision :  0.7321428571428572\n",
      "recall :  0.7321428571428572\n",
      "accuracy: 0.7317073170731707\n"
     ]
    }
   ],
   "source": [
    "print(\"f1 score : \",f1_score(y_test, y_pred_pca, average=\"macro\"))\n",
    "print(\"precision : \",precision_score(y_test, y_pred_pca, average=\"macro\"))\n",
    "print(\"recall : \",recall_score(y_test, y_pred_pca, average=\"macro\"))  \n",
    "print(\"accuracy:\",accuracy_score(y_test, y_pred_pca))"
   ]
  },
  {
   "cell_type": "code",
   "execution_count": 250,
   "id": "a2b2552c",
   "metadata": {},
   "outputs": [
    {
     "data": {
      "image/png": "[encoded data removed]",
      "text/plain": [
       "<Figure size 600x600 with 1 Axes>"
      ]
     },
     "metadata": {
      "needs_background": "light"
     },
     "output_type": "display_data"
    }
   ],
   "source": [
    "from sklearn import metrics\n",
    "auc = metrics.roc_auc_score(y_test, y_pred_pca)\n",
    "\n",
    "false_positive_rate, true_positive_rate, thresolds = metrics.roc_curve(y_test, y_pred_pca)\n",
    "\n",
    "plt.figure(figsize=(6, 6), dpi=100)\n",
    "plt.axis('scaled')\n",
    "plt.xlim([0, 1])\n",
    "plt.ylim([0, 1])\n",
    "plt.title(\"AUC & ROC Curve\")\n",
    "plt.plot(false_positive_rate, true_positive_rate,'--' )\n",
    "plt.fill_between(false_positive_rate, true_positive_rate, facecolor='lightblue', alpha=0.7)\n",
    "plt.text(0.95, 0.05, 'AUC = %0.4f' % auc, ha='right', fontsize=12, weight='bold', color='blue')\n",
    "plt.xlabel(\"False Positive Rate\")\n",
    "plt.ylabel(\"True Positive Rate\")\n",
    "plt.show()"
   ]
  },
  {
   "cell_type": "markdown",
   "id": "e9884b03",
   "metadata": {},
   "source": [
    "# SVM after PCA - GRIDSEARCH CV"
   ]
  },
  {
   "cell_type": "code",
   "execution_count": 44,
   "id": "65f65552",
   "metadata": {},
   "outputs": [
    {
     "name": "stdout",
     "output_type": "stream",
     "text": [
      "Fitting 5 folds for each of 25 candidates, totalling 125 fits\n",
      "[CV 1/5] END ........C=0.1, gamma=1, kernel=rbf;, score=0.485 total time=   0.0s\n",
      "[CV 2/5] END ........C=0.1, gamma=1, kernel=rbf;, score=0.758 total time=   0.0s\n",
      "[CV 3/5] END ........C=0.1, gamma=1, kernel=rbf;, score=0.727 total time=   0.0s\n",
      "[CV 4/5] END ........C=0.1, gamma=1, kernel=rbf;, score=0.500 total time=   0.0s\n",
      "[CV 5/5] END ........C=0.1, gamma=1, kernel=rbf;, score=0.500 total time=   0.0s\n",
      "[CV 1/5] END ......C=0.1, gamma=0.1, kernel=rbf;, score=0.485 total time=   0.0s\n",
      "[CV 2/5] END ......C=0.1, gamma=0.1, kernel=rbf;, score=0.727 total time=   0.0s\n",
      "[CV 3/5] END ......C=0.1, gamma=0.1, kernel=rbf;, score=0.727 total time=   0.0s\n",
      "[CV 4/5] END ......C=0.1, gamma=0.1, kernel=rbf;, score=0.500 total time=   0.0s\n",
      "[CV 5/5] END ......C=0.1, gamma=0.1, kernel=rbf;, score=0.500 total time=   0.0s\n",
      "[CV 1/5] END .....C=0.1, gamma=0.01, kernel=rbf;, score=0.485 total time=   0.0s\n",
      "[CV 2/5] END .....C=0.1, gamma=0.01, kernel=rbf;, score=0.727 total time=   0.0s\n",
      "[CV 3/5] END .....C=0.1, gamma=0.01, kernel=rbf;, score=0.758 total time=   0.0s\n",
      "[CV 4/5] END .....C=0.1, gamma=0.01, kernel=rbf;, score=0.500 total time=   0.0s\n",
      "[CV 5/5] END .....C=0.1, gamma=0.01, kernel=rbf;, score=0.500 total time=   0.0s\n",
      "[CV 1/5] END ....C=0.1, gamma=0.001, kernel=rbf;, score=0.485 total time=   0.0s\n",
      "[CV 2/5] END ....C=0.1, gamma=0.001, kernel=rbf;, score=0.758 total time=   0.0s\n",
      "[CV 3/5] END ....C=0.1, gamma=0.001, kernel=rbf;, score=0.758 total time=   0.0s\n",
      "[CV 4/5] END ....C=0.1, gamma=0.001, kernel=rbf;, score=0.500 total time=   0.0s\n",
      "[CV 5/5] END ....C=0.1, gamma=0.001, kernel=rbf;, score=0.500 total time=   0.0s\n",
      "[CV 1/5] END ...C=0.1, gamma=0.0001, kernel=rbf;, score=0.485 total time=   0.0s\n",
      "[CV 2/5] END ...C=0.1, gamma=0.0001, kernel=rbf;, score=0.758 total time=   0.0s\n",
      "[CV 3/5] END ...C=0.1, gamma=0.0001, kernel=rbf;, score=0.758 total time=   0.0s\n",
      "[CV 4/5] END ...C=0.1, gamma=0.0001, kernel=rbf;, score=0.500 total time=   0.0s\n",
      "[CV 5/5] END ...C=0.1, gamma=0.0001, kernel=rbf;, score=0.500 total time=   0.0s\n",
      "[CV 1/5] END ..........C=1, gamma=1, kernel=rbf;, score=0.788 total time=   0.0s\n",
      "[CV 2/5] END ..........C=1, gamma=1, kernel=rbf;, score=0.667 total time=   0.0s\n",
      "[CV 3/5] END ..........C=1, gamma=1, kernel=rbf;, score=0.727 total time=   0.0s\n",
      "[CV 4/5] END ..........C=1, gamma=1, kernel=rbf;, score=0.750 total time=   0.0s\n",
      "[CV 5/5] END ..........C=1, gamma=1, kernel=rbf;, score=0.875 total time=   0.0s\n",
      "[CV 1/5] END ........C=1, gamma=0.1, kernel=rbf;, score=0.818 total time=   0.0s\n",
      "[CV 2/5] END ........C=1, gamma=0.1, kernel=rbf;, score=0.848 total time=   0.0s\n",
      "[CV 3/5] END ........C=1, gamma=0.1, kernel=rbf;, score=0.727 total time=   0.0s\n",
      "[CV 4/5] END ........C=1, gamma=0.1, kernel=rbf;, score=0.688 total time=   0.0s\n",
      "[CV 5/5] END ........C=1, gamma=0.1, kernel=rbf;, score=0.781 total time=   0.0s\n",
      "[CV 1/5] END .......C=1, gamma=0.01, kernel=rbf;, score=0.576 total time=   0.0s\n",
      "[CV 2/5] END .......C=1, gamma=0.01, kernel=rbf;, score=0.727 total time=   0.0s\n",
      "[CV 3/5] END .......C=1, gamma=0.01, kernel=rbf;, score=0.758 total time=   0.0s\n",
      "[CV 4/5] END .......C=1, gamma=0.01, kernel=rbf;, score=0.594 total time=   0.0s\n",
      "[CV 5/5] END .......C=1, gamma=0.01, kernel=rbf;, score=0.719 total time=   0.0s\n",
      "[CV 1/5] END ......C=1, gamma=0.001, kernel=rbf;, score=0.485 total time=   0.0s\n",
      "[CV 2/5] END ......C=1, gamma=0.001, kernel=rbf;, score=0.758 total time=   0.0s\n",
      "[CV 3/5] END ......C=1, gamma=0.001, kernel=rbf;, score=0.758 total time=   0.0s\n",
      "[CV 4/5] END ......C=1, gamma=0.001, kernel=rbf;, score=0.500 total time=   0.0s\n",
      "[CV 5/5] END ......C=1, gamma=0.001, kernel=rbf;, score=0.500 total time=   0.0s\n",
      "[CV 1/5] END .....C=1, gamma=0.0001, kernel=rbf;, score=0.485 total time=   0.0s\n",
      "[CV 2/5] END .....C=1, gamma=0.0001, kernel=rbf;, score=0.758 total time=   0.0s\n",
      "[CV 3/5] END .....C=1, gamma=0.0001, kernel=rbf;, score=0.758 total time=   0.0s\n",
      "[CV 4/5] END .....C=1, gamma=0.0001, kernel=rbf;, score=0.500 total time=   0.0s\n",
      "[CV 5/5] END .....C=1, gamma=0.0001, kernel=rbf;, score=0.500 total time=   0.0s\n",
      "[CV 1/5] END .........C=10, gamma=1, kernel=rbf;, score=0.727 total time=   0.0s\n",
      "[CV 2/5] END .........C=10, gamma=1, kernel=rbf;, score=0.636 total time=   0.0s\n",
      "[CV 3/5] END .........C=10, gamma=1, kernel=rbf;, score=0.727 total time=   0.0s\n",
      "[CV 4/5] END .........C=10, gamma=1, kernel=rbf;, score=0.781 total time=   0.0s\n",
      "[CV 5/5] END .........C=10, gamma=1, kernel=rbf;, score=0.781 total time=   0.0s\n",
      "[CV 1/5] END .......C=10, gamma=0.1, kernel=rbf;, score=0.848 total time=   0.0s\n",
      "[CV 2/5] END .......C=10, gamma=0.1, kernel=rbf;, score=0.818 total time=   0.0s\n",
      "[CV 3/5] END .......C=10, gamma=0.1, kernel=rbf;, score=0.848 total time=   0.0s\n",
      "[CV 4/5] END .......C=10, gamma=0.1, kernel=rbf;, score=0.719 total time=   0.0s\n",
      "[CV 5/5] END .......C=10, gamma=0.1, kernel=rbf;, score=0.812 total time=   0.0s\n",
      "[CV 1/5] END ......C=10, gamma=0.01, kernel=rbf;, score=0.788 total time=   0.0s\n",
      "[CV 2/5] END ......C=10, gamma=0.01, kernel=rbf;, score=0.848 total time=   0.0s\n",
      "[CV 3/5] END ......C=10, gamma=0.01, kernel=rbf;, score=0.758 total time=   0.0s\n",
      "[CV 4/5] END ......C=10, gamma=0.01, kernel=rbf;, score=0.625 total time=   0.0s\n",
      "[CV 5/5] END ......C=10, gamma=0.01, kernel=rbf;, score=0.719 total time=   0.0s\n",
      "[CV 1/5] END .....C=10, gamma=0.001, kernel=rbf;, score=0.576 total time=   0.0s\n",
      "[CV 2/5] END .....C=10, gamma=0.001, kernel=rbf;, score=0.758 total time=   0.0s\n",
      "[CV 3/5] END .....C=10, gamma=0.001, kernel=rbf;, score=0.758 total time=   0.0s\n",
      "[CV 4/5] END .....C=10, gamma=0.001, kernel=rbf;, score=0.594 total time=   0.0s\n",
      "[CV 5/5] END .....C=10, gamma=0.001, kernel=rbf;, score=0.750 total time=   0.0s\n",
      "[CV 1/5] END ....C=10, gamma=0.0001, kernel=rbf;, score=0.485 total time=   0.0s\n",
      "[CV 2/5] END ....C=10, gamma=0.0001, kernel=rbf;, score=0.758 total time=   0.0s\n",
      "[CV 3/5] END ....C=10, gamma=0.0001, kernel=rbf;, score=0.758 total time=   0.0s\n",
      "[CV 4/5] END ....C=10, gamma=0.0001, kernel=rbf;, score=0.500 total time=   0.0s\n",
      "[CV 5/5] END ....C=10, gamma=0.0001, kernel=rbf;, score=0.500 total time=   0.0s\n",
      "[CV 1/5] END .........C=15, gamma=1, kernel=rbf;, score=0.727 total time=   0.0s\n",
      "[CV 2/5] END .........C=15, gamma=1, kernel=rbf;, score=0.636 total time=   0.0s\n",
      "[CV 3/5] END .........C=15, gamma=1, kernel=rbf;, score=0.727 total time=   0.0s\n",
      "[CV 4/5] END .........C=15, gamma=1, kernel=rbf;, score=0.781 total time=   0.0s\n",
      "[CV 5/5] END .........C=15, gamma=1, kernel=rbf;, score=0.781 total time=   0.0s\n",
      "[CV 1/5] END .......C=15, gamma=0.1, kernel=rbf;, score=0.818 total time=   0.0s\n",
      "[CV 2/5] END .......C=15, gamma=0.1, kernel=rbf;, score=0.848 total time=   0.0s\n",
      "[CV 3/5] END .......C=15, gamma=0.1, kernel=rbf;, score=0.848 total time=   0.0s\n",
      "[CV 4/5] END .......C=15, gamma=0.1, kernel=rbf;, score=0.750 total time=   0.0s\n",
      "[CV 5/5] END .......C=15, gamma=0.1, kernel=rbf;, score=0.844 total time=   0.0s\n",
      "[CV 1/5] END ......C=15, gamma=0.01, kernel=rbf;, score=0.758 total time=   0.0s\n",
      "[CV 2/5] END ......C=15, gamma=0.01, kernel=rbf;, score=0.848 total time=   0.0s\n",
      "[CV 3/5] END ......C=15, gamma=0.01, kernel=rbf;, score=0.788 total time=   0.0s\n",
      "[CV 4/5] END ......C=15, gamma=0.01, kernel=rbf;, score=0.656 total time=   0.0s\n",
      "[CV 5/5] END ......C=15, gamma=0.01, kernel=rbf;, score=0.688 total time=   0.0s\n",
      "[CV 1/5] END .....C=15, gamma=0.001, kernel=rbf;, score=0.818 total time=   0.0s\n",
      "[CV 2/5] END .....C=15, gamma=0.001, kernel=rbf;, score=0.818 total time=   0.0s\n",
      "[CV 3/5] END .....C=15, gamma=0.001, kernel=rbf;, score=0.697 total time=   0.0s\n",
      "[CV 4/5] END .....C=15, gamma=0.001, kernel=rbf;, score=0.594 total time=   0.0s\n",
      "[CV 5/5] END .....C=15, gamma=0.001, kernel=rbf;, score=0.688 total time=   0.0s\n",
      "[CV 1/5] END ....C=15, gamma=0.0001, kernel=rbf;, score=0.485 total time=   0.0s\n",
      "[CV 2/5] END ....C=15, gamma=0.0001, kernel=rbf;, score=0.758 total time=   0.0s\n",
      "[CV 3/5] END ....C=15, gamma=0.0001, kernel=rbf;, score=0.758 total time=   0.0s\n",
      "[CV 4/5] END ....C=15, gamma=0.0001, kernel=rbf;, score=0.500 total time=   0.0s\n",
      "[CV 5/5] END ....C=15, gamma=0.0001, kernel=rbf;, score=0.500 total time=   0.0s\n",
      "[CV 1/5] END .........C=25, gamma=1, kernel=rbf;, score=0.727 total time=   0.0s\n",
      "[CV 2/5] END .........C=25, gamma=1, kernel=rbf;, score=0.636 total time=   0.0s\n",
      "[CV 3/5] END .........C=25, gamma=1, kernel=rbf;, score=0.727 total time=   0.0s\n",
      "[CV 4/5] END .........C=25, gamma=1, kernel=rbf;, score=0.781 total time=   0.0s\n",
      "[CV 5/5] END .........C=25, gamma=1, kernel=rbf;, score=0.781 total time=   0.0s\n",
      "[CV 1/5] END .......C=25, gamma=0.1, kernel=rbf;, score=0.818 total time=   0.0s\n",
      "[CV 2/5] END .......C=25, gamma=0.1, kernel=rbf;, score=0.879 total time=   0.0s\n",
      "[CV 3/5] END .......C=25, gamma=0.1, kernel=rbf;, score=0.848 total time=   0.0s\n",
      "[CV 4/5] END .......C=25, gamma=0.1, kernel=rbf;, score=0.719 total time=   0.0s\n",
      "[CV 5/5] END .......C=25, gamma=0.1, kernel=rbf;, score=0.812 total time=   0.0s\n",
      "[CV 1/5] END ......C=25, gamma=0.01, kernel=rbf;, score=0.818 total time=   0.0s\n",
      "[CV 2/5] END ......C=25, gamma=0.01, kernel=rbf;, score=0.818 total time=   0.0s\n",
      "[CV 3/5] END ......C=25, gamma=0.01, kernel=rbf;, score=0.788 total time=   0.0s\n",
      "[CV 4/5] END ......C=25, gamma=0.01, kernel=rbf;, score=0.688 total time=   0.0s\n",
      "[CV 5/5] END ......C=25, gamma=0.01, kernel=rbf;, score=0.719 total time=   0.0s\n",
      "[CV 1/5] END .....C=25, gamma=0.001, kernel=rbf;, score=0.818 total time=   0.0s\n",
      "[CV 2/5] END .....C=25, gamma=0.001, kernel=rbf;, score=0.848 total time=   0.0s\n",
      "[CV 3/5] END .....C=25, gamma=0.001, kernel=rbf;, score=0.727 total time=   0.0s\n",
      "[CV 4/5] END .....C=25, gamma=0.001, kernel=rbf;, score=0.625 total time=   0.0s\n",
      "[CV 5/5] END .....C=25, gamma=0.001, kernel=rbf;, score=0.719 total time=   0.0s\n",
      "[CV 1/5] END ....C=25, gamma=0.0001, kernel=rbf;, score=0.485 total time=   0.0s\n",
      "[CV 2/5] END ....C=25, gamma=0.0001, kernel=rbf;, score=0.758 total time=   0.0s\n",
      "[CV 3/5] END ....C=25, gamma=0.0001, kernel=rbf;, score=0.758 total time=   0.0s\n",
      "[CV 4/5] END ....C=25, gamma=0.0001, kernel=rbf;, score=0.500 total time=   0.0s\n",
      "[CV 5/5] END ....C=25, gamma=0.0001, kernel=rbf;, score=0.500 total time=   0.0s\n"
     ]
    },
    {
     "data": {
      "text/plain": [
       "GridSearchCV(estimator=SVC(),\n",
       "             param_grid={'C': [0.1, 1, 10, 15, 25],\n",
       "                         'gamma': [1, 0.1, 0.01, 0.001, 0.0001],\n",
       "                         'kernel': ['rbf']},\n",
       "             verbose=3)"
      ]
     },
     "execution_count": 44,
     "metadata": {},
     "output_type": "execute_result"
    }
   ],
   "source": [
    "from sklearn.svm import SVC\n",
    "model = SVC()\n",
    "from sklearn.model_selection import GridSearchCV\n",
    "  \n",
    "# defining parameter range\n",
    "param_grid = {'C': [0.1, 1,10, 15,25], \n",
    "              'gamma': [1, 0.1, 0.01, 0.001, 0.0001],\n",
    "              'kernel': ['rbf']} \n",
    "  \n",
    "grid = GridSearchCV(SVC(), param_grid, refit = True, verbose = 3)\n",
    "  \n",
    "# fitting the model for grid search\n",
    "grid.fit(X_train, y_train)"
   ]
  },
  {
   "cell_type": "code",
   "execution_count": 45,
   "id": "30940301",
   "metadata": {},
   "outputs": [
    {
     "name": "stdout",
     "output_type": "stream",
     "text": [
      "{'C': 15, 'gamma': 0.1, 'kernel': 'rbf'}\n",
      "SVC(C=15, gamma=0.1)\n"
     ]
    }
   ],
   "source": [
    "\n",
    "# print best parameter after tuning\n",
    "print(grid.best_params_)\n",
    "  \n",
    "# print how our model looks after hyper-parameter tuning\n",
    "print(grid.best_estimator_)"
   ]
  },
  {
   "cell_type": "code",
   "execution_count": 46,
   "id": "20b65adc",
   "metadata": {},
   "outputs": [],
   "source": [
    "#Create a svm Classifier\n",
    "clf = svm.SVC(C=15,gamma=0.1, kernel='rbf') # Polynomial Kernel\n",
    "\n",
    "#Train the model using the training sets\n",
    "clf.fit(X_train, y_train)\n",
    "\n",
    "#Predict the response for test dataset\n",
    "y_pred_pcagrid = clf.predict(X_test)\n"
   ]
  },
  {
   "cell_type": "code",
   "execution_count": 47,
   "id": "f62b5b56",
   "metadata": {},
   "outputs": [
    {
     "name": "stdout",
     "output_type": "stream",
     "text": [
      "f1 score :  0.7291291291291292\n",
      "precision :  0.7365196078431373\n",
      "recall :  0.7297619047619048\n",
      "accuracy: 0.7317073170731707\n"
     ]
    }
   ],
   "source": [
    "print(\"f1 score : \",f1_score(y_test, y_pred_pcagrid, average=\"macro\"))\n",
    "print(\"precision : \",precision_score(y_test, y_pred_pcagrid, average=\"macro\"))\n",
    "print(\"recall : \",recall_score(y_test, y_pred_pcagrid, average=\"macro\"))  \n",
    "print(\"accuracy:\",accuracy_score(y_test, y_pred_pcagrid))"
   ]
  },
  {
   "cell_type": "code",
   "execution_count": 208,
   "id": "39e363df",
   "metadata": {},
   "outputs": [
    {
     "data": {
      "image/png": "[encoded data removed]",
      "text/plain": [
       "<Figure size 600x600 with 1 Axes>"
      ]
     },
     "metadata": {
      "needs_background": "light"
     },
     "output_type": "display_data"
    }
   ],
   "source": [
    "from sklearn import metrics\n",
    "auc = metrics.roc_auc_score(y_test,y_pred_pcagrid)\n",
    "\n",
    "false_positive_rate, true_positive_rate, thresolds = metrics.roc_curve(y_test, y_pred_pcagrid)\n",
    "\n",
    "plt.figure(figsize=(6, 6), dpi=100)\n",
    "plt.axis('scaled')\n",
    "plt.xlim([0, 1])\n",
    "plt.ylim([0, 1])\n",
    "plt.title(\"AUC & ROC Curve\")\n",
    "plt.plot(false_positive_rate, true_positive_rate,'--' )\n",
    "plt.fill_between(false_positive_rate, true_positive_rate, facecolor='lightblue', alpha=0.7)\n",
    "plt.text(0.95, 0.05, 'AUC = %0.4f' % auc, ha='right', fontsize=12, weight='bold', color='blue')\n",
    "plt.xlabel(\"False Positive Rate\")\n",
    "plt.ylabel(\"True Positive Rate\")\n",
    "plt.show()"
   ]
  },
  {
   "cell_type": "code",
   "execution_count": null,
   "id": "d1526ad1",
   "metadata": {},
   "outputs": [],
   "source": []
  },
  {
   "cell_type": "markdown",
   "id": "4ad6fa90",
   "metadata": {},
   "source": [
    "##  Size of the dataset has been reduced, but performance of classifier has deteriorated"
   ]
  },
  {
   "cell_type": "markdown",
   "id": "17c2243d",
   "metadata": {},
   "source": [
    "### Need for optimization of classifier hyper parameters"
   ]
  },
  {
   "cell_type": "markdown",
   "id": "5ce1acce",
   "metadata": {},
   "source": [
    "### Method 1.a - Bayesian Optimization with Gaussian Process (BO-GP)\n",
    "PCA-OPTIMIZATION-SVM"
   ]
  },
  {
   "cell_type": "code",
   "execution_count": 51,
   "id": "39b53b39",
   "metadata": {},
   "outputs": [
    {
     "name": "stderr",
     "output_type": "stream",
     "text": [
      "C:\\Users\\Devi C Arati\\anaconda3\\lib\\site-packages\\skopt\\optimizer\\optimizer.py:449: UserWarning: The objective has been evaluated at this point before.\n",
      "  warnings.warn(\"The objective has been evaluated \"\n",
      "C:\\Users\\Devi C Arati\\anaconda3\\lib\\site-packages\\skopt\\optimizer\\optimizer.py:449: UserWarning: The objective has been evaluated at this point before.\n",
      "  warnings.warn(\"The objective has been evaluated \"\n",
      "C:\\Users\\Devi C Arati\\anaconda3\\lib\\site-packages\\skopt\\optimizer\\optimizer.py:449: UserWarning: The objective has been evaluated at this point before.\n",
      "  warnings.warn(\"The objective has been evaluated \"\n",
      "C:\\Users\\Devi C Arati\\anaconda3\\lib\\site-packages\\skopt\\optimizer\\optimizer.py:449: UserWarning: The objective has been evaluated at this point before.\n",
      "  warnings.warn(\"The objective has been evaluated \"\n",
      "C:\\Users\\Devi C Arati\\anaconda3\\lib\\site-packages\\skopt\\optimizer\\optimizer.py:449: UserWarning: The objective has been evaluated at this point before.\n",
      "  warnings.warn(\"The objective has been evaluated \"\n",
      "C:\\Users\\Devi C Arati\\anaconda3\\lib\\site-packages\\skopt\\optimizer\\optimizer.py:449: UserWarning: The objective has been evaluated at this point before.\n",
      "  warnings.warn(\"The objective has been evaluated \"\n",
      "C:\\Users\\Devi C Arati\\anaconda3\\lib\\site-packages\\skopt\\optimizer\\optimizer.py:449: UserWarning: The objective has been evaluated at this point before.\n",
      "  warnings.warn(\"The objective has been evaluated \"\n",
      "C:\\Users\\Devi C Arati\\anaconda3\\lib\\site-packages\\skopt\\optimizer\\optimizer.py:449: UserWarning: The objective has been evaluated at this point before.\n",
      "  warnings.warn(\"The objective has been evaluated \"\n",
      "C:\\Users\\Devi C Arati\\anaconda3\\lib\\site-packages\\skopt\\optimizer\\optimizer.py:449: UserWarning: The objective has been evaluated at this point before.\n",
      "  warnings.warn(\"The objective has been evaluated \"\n",
      "C:\\Users\\Devi C Arati\\anaconda3\\lib\\site-packages\\skopt\\optimizer\\optimizer.py:449: UserWarning: The objective has been evaluated at this point before.\n",
      "  warnings.warn(\"The objective has been evaluated \"\n",
      "C:\\Users\\Devi C Arati\\anaconda3\\lib\\site-packages\\skopt\\optimizer\\optimizer.py:449: UserWarning: The objective has been evaluated at this point before.\n",
      "  warnings.warn(\"The objective has been evaluated \"\n"
     ]
    },
    {
     "name": "stdout",
     "output_type": "stream",
     "text": [
      "OrderedDict([('C', 33.38846901215499), ('kernel', 'rbf')])\n",
      "Accuracy:0.7647058823529411\n"
     ]
    }
   ],
   "source": [
    "#SVM\n",
    "from skopt import Optimizer\n",
    "from skopt import BayesSearchCV \n",
    "from skopt.space import Real, Categorical, Integer\n",
    "rf_params = {\n",
    "    'C': Real(0.01,50),\n",
    "    \"kernel\":['linear','poly','rbf','sigmoid']\n",
    "}\n",
    "clf = svm.SVC(gamma = 'scale')\n",
    "Bayes = BayesSearchCV(clf, rf_params,cv=3,n_iter=40, n_jobs=-1,scoring='accuracy')\n",
    "Bayes.fit(X_10pcs, y)\n",
    "print(Bayes.best_params_)\n",
    "bclf = Bayes.best_estimator_\n",
    "print(\"Accuracy:\"+ str(Bayes.best_score_))"
   ]
  },
  {
   "cell_type": "code",
   "execution_count": 52,
   "id": "de0c5a88",
   "metadata": {},
   "outputs": [
    {
     "data": {
      "text/plain": [
       "SVC(C=33.38846901215499)"
      ]
     },
     "execution_count": 52,
     "metadata": {},
     "output_type": "execute_result"
    }
   ],
   "source": [
    "bclf"
   ]
  },
  {
   "cell_type": "code",
   "execution_count": 54,
   "id": "e88f637f",
   "metadata": {},
   "outputs": [
    {
     "name": "stdout",
     "output_type": "stream",
     "text": [
      "Duration: 0:00:00\n"
     ]
    }
   ],
   "source": [
    "start_time = datetime.now()\n",
    "\n",
    "#Create an svm Classifier\n",
    "clf1 = svm.SVC(C=33.388469,kernel='rbf') # rbf Kernel\n",
    "\n",
    "#Train the model using the training sets\n",
    "clf1.fit(X_train, y_train)\n",
    "\n",
    "#Predict the response for test dataset\n",
    "y_pred1 = clf1.predict(X_test)\n",
    "\n",
    "end_time = datetime.now()\n",
    "print('Duration: {}'.format(end_time - start_time))"
   ]
  },
  {
   "cell_type": "code",
   "execution_count": 49,
   "id": "c2a3b50a",
   "metadata": {},
   "outputs": [
    {
     "name": "stdout",
     "output_type": "stream",
     "text": [
      "f1 score :  0.7291291291291292\n",
      "precision :  0.7365196078431373\n",
      "recall :  0.7297619047619048\n",
      "accuracy: 0.7317073170731707\n"
     ]
    }
   ],
   "source": [
    "print(\"f1 score : \",f1_score(y_test, y_pred1, average=\"macro\"))\n",
    "print(\"precision : \",precision_score(y_test, y_pred1, average=\"macro\"))\n",
    "print(\"recall : \",recall_score(y_test, y_pred1, average=\"macro\"))  \n",
    "print(\"accuracy:\",accuracy_score(y_test, y_pred1))"
   ]
  },
  {
   "cell_type": "code",
   "execution_count": 55,
   "id": "0c2ea890",
   "metadata": {},
   "outputs": [
    {
     "data": {
      "image/png": "[encoded data removed]",
      "text/plain": [
       "<Figure size 600x600 with 1 Axes>"
      ]
     },
     "metadata": {
      "needs_background": "light"
     },
     "output_type": "display_data"
    }
   ],
   "source": [
    "from sklearn import metrics\n",
    "auc = metrics.roc_auc_score(y_test, y_pred1)\n",
    "\n",
    "false_positive_rate, true_positive_rate, thresolds = metrics.roc_curve(y_test, y_pred1)\n",
    "\n",
    "plt.figure(figsize=(6, 6), dpi=100)\n",
    "plt.axis('scaled')\n",
    "plt.xlim([0, 1])\n",
    "plt.ylim([0, 1])\n",
    "plt.title(\"AUC & ROC Curve\")\n",
    "plt.plot(false_positive_rate, true_positive_rate,'--' )\n",
    "plt.fill_between(false_positive_rate, true_positive_rate, facecolor='lightblue', alpha=0.7)\n",
    "plt.text(0.95, 0.05, 'AUC = %0.4f' % auc, ha='right', fontsize=12, weight='bold', color='blue')\n",
    "plt.xlabel(\"False Positive Rate\")\n",
    "plt.ylabel(\"True Positive Rate\")\n",
    "plt.show()"
   ]
  },
  {
   "cell_type": "code",
   "execution_count": 45,
   "id": "7b505498",
   "metadata": {},
   "outputs": [],
   "source": [
    "# pip install scikit-optimize"
   ]
  },
  {
   "cell_type": "markdown",
   "id": "97cebe66",
   "metadata": {},
   "source": [
    "### Method 1.b - Bayesian Optimization with Tree-structured Parzen Estimator (TPE)"
   ]
  },
  {
   "cell_type": "code",
   "execution_count": 65,
   "id": "a79740cd",
   "metadata": {},
   "outputs": [
    {
     "name": "stdout",
     "output_type": "stream",
     "text": [
      "100%|██████████| 20/20 [00:00<00:00, 74.77trial/s, best loss: 0.7647058823529411]\n",
      "SVM: Hyperopt estimated optimum {'C': 2.127147974332955, 'kernel': 3}\n"
     ]
    }
   ],
   "source": [
    "from hyperopt import hp, fmin, tpe, STATUS_OK, Trials\n",
    "from sklearn.model_selection import cross_val_score, StratifiedKFold\n",
    "def objective(params):\n",
    "    params = {\n",
    "        'C': abs(float(params['C'])), \n",
    "        \"kernel\":str(params['kernel'])\n",
    "    }\n",
    "    clf2 = svm.SVC(gamma='scale', **params)\n",
    "    score = cross_val_score(clf, X_10pcs, y, scoring='accuracy', cv=StratifiedKFold(n_splits=3)).mean()\n",
    "\n",
    "    return {'loss':score, 'status': STATUS_OK }\n",
    "\n",
    "space = {\n",
    "    'C': hp.normal('C', 0, 2),\n",
    "    \"kernel\":hp.choice('kernel',['linear','poly','rbf','sigmoid'])\n",
    "}\n",
    "\n",
    "best = fmin(fn=objective,\n",
    "            space=space,\n",
    "            algo=tpe.suggest,\n",
    "            max_evals=20)\n",
    "print(\"SVM: Hyperopt estimated optimum {}\".format(best))\n"
   ]
  },
  {
   "cell_type": "code",
   "execution_count": 67,
   "id": "c0517ac9",
   "metadata": {},
   "outputs": [
    {
     "name": "stdout",
     "output_type": "stream",
     "text": [
      "accuracy: 0.6829268292682927\n"
     ]
    }
   ],
   "source": [
    "#Create a svm Classifier\n",
    "clf2 = svm.SVC(C=2.127,kernel='sigmoid') # Polynomial Kernel\n",
    "\n",
    "#Train the model using the training sets\n",
    "clf2.fit(X_train, y_train)\n",
    "\n",
    "#Predict the response for test dataset\n",
    "y_pred2 = clf2.predict(X_test)\n",
    "\n",
    "print(\"accuracy:\",accuracy_score(y_test, y_pred2))"
   ]
  },
  {
   "cell_type": "code",
   "execution_count": 68,
   "id": "5d2d68e2",
   "metadata": {},
   "outputs": [
    {
     "name": "stdout",
     "output_type": "stream",
     "text": [
      "f1 score :  0.6829268292682926\n",
      "precision :  0.6833333333333333\n",
      "recall :  0.6833333333333333\n",
      "accuracy: 0.6829268292682927\n"
     ]
    }
   ],
   "source": [
    "print(\"f1 score : \",f1_score(y_test, y_pred2, average=\"macro\"))\n",
    "print(\"precision : \",precision_score(y_test, y_pred2, average=\"macro\"))\n",
    "print(\"recall : \",recall_score(y_test, y_pred2, average=\"macro\"))  \n",
    "print(\"accuracy:\",accuracy_score(y_test, y_pred2))"
   ]
  },
  {
   "cell_type": "code",
   "execution_count": 69,
   "id": "b46fb027",
   "metadata": {},
   "outputs": [
    {
     "data": {
      "image/png": "[encoded data removed]",
      "text/plain": [
       "<Figure size 600x600 with 1 Axes>"
      ]
     },
     "metadata": {
      "needs_background": "light"
     },
     "output_type": "display_data"
    }
   ],
   "source": [
    "from sklearn import metrics\n",
    "auc = metrics.roc_auc_score(y_test, y_pred2)\n",
    "\n",
    "false_positive_rate, true_positive_rate, thresolds = metrics.roc_curve(y_test, y_pred2)\n",
    "\n",
    "plt.figure(figsize=(6, 6), dpi=100)\n",
    "plt.axis('scaled')\n",
    "plt.xlim([0, 1])\n",
    "plt.ylim([0, 1])\n",
    "plt.title(\"AUC & ROC Curve\")\n",
    "plt.plot(false_positive_rate, true_positive_rate,'--' )\n",
    "plt.fill_between(false_positive_rate, true_positive_rate, facecolor='lightblue', alpha=0.7)\n",
    "plt.text(0.95, 0.05, 'AUC = %0.4f' % auc, ha='right', fontsize=12, weight='bold', color='blue')\n",
    "plt.xlabel(\"False Positive Rate\")\n",
    "plt.ylabel(\"True Positive Rate\")\n",
    "plt.show()"
   ]
  },
  {
   "cell_type": "code",
   "execution_count": 108,
   "id": "debd1e40",
   "metadata": {},
   "outputs": [],
   "source": [
    "# pip install hyperpot"
   ]
  },
  {
   "cell_type": "markdown",
   "id": "4e3d2776",
   "metadata": {},
   "source": [
    "### Method 2 - Genetic Algorithm"
   ]
  },
  {
   "cell_type": "code",
   "execution_count": 70,
   "id": "d2b50ea1",
   "metadata": {},
   "outputs": [
    {
     "name": "stdout",
     "output_type": "stream",
     "text": [
      "Types [2, 1, 1] and maxint [999, 3, 1] detected\n",
      "--- Evolve in 8000 possible combinations ---\n",
      "gen\tnevals\tavg     \tmin     \tmax     \tstd      \n",
      "0  \t100   \t0.749265\t0.519608\t0.818627\t0.0528475\n",
      "1  \t54    \t0.781814\t0.588235\t0.818627\t0.0279067\n",
      "2  \t62    \t0.788824\t0.553922\t0.818627\t0.0470214\n",
      "3  \t63    \t0.796814\t0.504902\t0.818627\t0.0608056\n",
      "4  \t56    \t0.814461\t0.759804\t0.818627\t0.0116699\n",
      "5  \t65    \t0.808873\t0.553922\t0.818627\t0.0349486\n",
      "6  \t57    \t0.812255\t0.612745\t0.818627\t0.0243869\n",
      "7  \t66    \t0.810539\t0.573529\t0.818627\t0.0283075\n",
      "8  \t56    \t0.811176\t0.529412\t0.818627\t0.0311919\n",
      "9  \t62    \t0.811569\t0.504902\t0.818627\t0.0343929\n",
      "10 \t59    \t0.806029\t0.558824\t0.818627\t0.042414 \n",
      "11 \t68    \t0.810833\t0.70098 \t0.818627\t0.0210282\n",
      "12 \t50    \t0.815098\t0.75    \t0.818627\t0.0118071\n",
      "13 \t66    \t0.815049\t0.730392\t0.818627\t0.0121041\n",
      "14 \t48    \t0.812402\t0.676471\t0.818627\t0.0214217\n",
      "15 \t67    \t0.811225\t0.598039\t0.818627\t0.026656 \n",
      "16 \t59    \t0.815098\t0.578431\t0.818627\t0.0243631\n",
      "17 \t64    \t0.812353\t0.647059\t0.818627\t0.0246084\n",
      "18 \t53    \t0.814951\t0.70098 \t0.818627\t0.0164691\n",
      "19 \t56    \t0.812745\t0.598039\t0.818627\t0.0266154\n",
      "20 \t58    \t0.816912\t0.759804\t0.818627\t0.00827183\n",
      "Best individual is: {'C': 23.57236532789837, 'kernel': 'poly', 'gamma': 'auto'}\n",
      "with fitness: 0.8186274509803921\n",
      "{'C': 23.57236532789837, 'kernel': 'poly', 'gamma': 'auto'}\n"
     ]
    }
   ],
   "source": [
    "#SVM\n",
    "from evolutionary_search import EvolutionaryAlgorithmSearchCV\n",
    "rf_params = {\n",
    "    'C': np.random.uniform(0,50,1000),\n",
    "    \"kernel\":['linear','poly','rbf','sigmoid'],\n",
    "    \"gamma\" : ['scale', 'auto']\n",
    "}\n",
    "clf3 = svm.SVC()\n",
    "ga1 = EvolutionaryAlgorithmSearchCV(estimator=clf3,\n",
    "                                   params=rf_params,\n",
    "                                   scoring=\"accuracy\",\n",
    "                                   cv=5,\n",
    "                                   verbose=1,\n",
    "                                   population_size=100,\n",
    "                                   gene_mutation_prob=0.20,\n",
    "                                   gene_crossover_prob=0.5,\n",
    "                                   tournament_size=5,\n",
    "                                   generations_number=20,\n",
    "                                   n_jobs=1)\n",
    "ga1.fit(X_10pcs, y)\n",
    "print(ga1.best_params_)\n",
    "#print(\"Accuracy:\"+ str(ga1.best_score_))"
   ]
  },
  {
   "cell_type": "code",
   "execution_count": 110,
   "id": "639bd59c",
   "metadata": {},
   "outputs": [],
   "source": [
    "# pip install sklearn-deap"
   ]
  },
  {
   "cell_type": "code",
   "execution_count": 71,
   "id": "bad5a24f",
   "metadata": {},
   "outputs": [
    {
     "name": "stdout",
     "output_type": "stream",
     "text": [
      "accuracy: 0.7560975609756098\n"
     ]
    }
   ],
   "source": [
    "X_train, X_test, y_train, y_test = train_test_split(X_8pcs, y, test_size=0.2, random_state=0)\n",
    "#Create a svm Classifier\n",
    "clf = svm.SVC(C=23.572,kernel='poly',gamma='scale') # rbf Kernel\n",
    "\n",
    "#Train the model using the training sets\n",
    "clf.fit(X_train, y_train)\n",
    "\n",
    "#Predict the response for test dataset\n",
    "y_pred3 = clf.predict(X_test)\n",
    "\n",
    "print(\"accuracy:\",accuracy_score(y_test, y_pred3))"
   ]
  },
  {
   "cell_type": "code",
   "execution_count": 72,
   "id": "6e49bdb9",
   "metadata": {},
   "outputs": [
    {
     "name": "stdout",
     "output_type": "stream",
     "text": [
      "f1 score :  0.7559523809523809\n",
      "precision :  0.7559523809523809\n",
      "recall :  0.7559523809523809\n",
      "accuracy: 0.7560975609756098\n"
     ]
    }
   ],
   "source": [
    "print(\"f1 score : \",f1_score(y_test, y_pred3, average=\"macro\"))\n",
    "print(\"precision : \",precision_score(y_test, y_pred3, average=\"macro\"))\n",
    "print(\"recall : \",recall_score(y_test, y_pred3, average=\"macro\"))  \n",
    "print(\"accuracy:\",accuracy_score(y_test, y_pred3))"
   ]
  },
  {
   "cell_type": "code",
   "execution_count": 73,
   "id": "a6de2ced",
   "metadata": {},
   "outputs": [
    {
     "data": {
      "image/png": "[encoded data removed]",
      "text/plain": [
       "<Figure size 600x600 with 1 Axes>"
      ]
     },
     "metadata": {
      "needs_background": "light"
     },
     "output_type": "display_data"
    }
   ],
   "source": [
    "from sklearn import metrics\n",
    "auc = metrics.roc_auc_score(y_test, y_pred3)\n",
    "\n",
    "false_positive_rate, true_positive_rate, thresolds = metrics.roc_curve(y_test, y_pred3)\n",
    "\n",
    "plt.figure(figsize=(6, 6), dpi=100)\n",
    "plt.axis('scaled')\n",
    "plt.xlim([0, 1])\n",
    "plt.ylim([0, 1])\n",
    "plt.title(\"AUC & ROC Curve\")\n",
    "plt.plot(false_positive_rate, true_positive_rate,'--' )\n",
    "plt.fill_between(false_positive_rate, true_positive_rate, facecolor='lightblue', alpha=0.7)\n",
    "plt.text(0.95, 0.05, 'AUC = %0.4f' % auc, ha='right', fontsize=12, weight='bold', color='blue')\n",
    "plt.xlabel(\"False Positive Rate\")\n",
    "plt.ylabel(\"True Positive Rate\")\n",
    "plt.show()"
   ]
  },
  {
   "cell_type": "code",
   "execution_count": 74,
   "id": "d071437f",
   "metadata": {},
   "outputs": [
    {
     "data": {
      "text/plain": [
       "[<matplotlib.lines.Line2D at 0x288dc8e3bb0>]"
      ]
     },
     "execution_count": 74,
     "metadata": {},
     "output_type": "execute_result"
    },
    {
     "data": {
      "image/png": "[encoded data removed]",
      "text/plain": [
       "<Figure size 432x288 with 1 Axes>"
      ]
     },
     "metadata": {
      "needs_background": "light"
     },
     "output_type": "display_data"
    }
   ],
   "source": [
    "fpr, tpr, _ = metrics.roc_curve(y_test, y_pred)\n",
    "auc = round(metrics.roc_auc_score(y_test, y_pred), 4)\n",
    "plt.plot(fpr,tpr,label=\"Logistic Regression, AUC=\"+str(auc))"
   ]
  },
  {
   "cell_type": "code",
   "execution_count": null,
   "id": "4384f6de",
   "metadata": {},
   "outputs": [],
   "source": []
  },
  {
   "cell_type": "code",
   "execution_count": null,
   "id": "6b65bc03",
   "metadata": {},
   "outputs": [],
   "source": []
  },
  {
   "cell_type": "markdown",
   "id": "d96af73a",
   "metadata": {},
   "source": [
    "# USING RANDOM FOREST"
   ]
  },
  {
   "cell_type": "markdown",
   "id": "e2398969",
   "metadata": {},
   "source": [
    "Before dimensionality reduction."
   ]
  },
  {
   "cell_type": "code",
   "execution_count": 75,
   "id": "d0f96b6e",
   "metadata": {},
   "outputs": [],
   "source": [
    "from sklearn.model_selection import train_test_split\n",
    "\n",
    "X_train, X_test, y_train, y_test = train_test_split(X, y, test_size=0.2, random_state=0)"
   ]
  },
  {
   "cell_type": "code",
   "execution_count": 76,
   "id": "87beeb36",
   "metadata": {},
   "outputs": [],
   "source": [
    "from sklearn.ensemble import RandomForestClassifier\n",
    "rf_classifier=RandomForestClassifier(n_estimators=100).fit(X_train,y_train)\n",
    "prediction=rf_classifier.predict(X_test)"
   ]
  },
  {
   "cell_type": "code",
   "execution_count": 77,
   "id": "3ce75f17",
   "metadata": {
    "scrolled": true
   },
   "outputs": [
    {
     "name": "stdout",
     "output_type": "stream",
     "text": [
      "[[18  3]\n",
      " [ 4 16]]\n",
      "0.8292682926829268\n",
      "              precision    recall  f1-score   support\n",
      "\n",
      "           0       0.82      0.86      0.84        21\n",
      "           1       0.84      0.80      0.82        20\n",
      "\n",
      "    accuracy                           0.83        41\n",
      "   macro avg       0.83      0.83      0.83        41\n",
      "weighted avg       0.83      0.83      0.83        41\n",
      "\n"
     ]
    }
   ],
   "source": [
    "from sklearn.metrics import confusion_matrix,classification_report,accuracy_score\n",
    "print(confusion_matrix(y_test,prediction))\n",
    "print(accuracy_score(y_test,prediction))\n",
    "print(classification_report(y_test,prediction))"
   ]
  },
  {
   "cell_type": "markdown",
   "id": "b7afff38",
   "metadata": {},
   "source": [
    "AFTER LDA"
   ]
  },
  {
   "cell_type": "code",
   "execution_count": 78,
   "id": "3ca046fe",
   "metadata": {},
   "outputs": [],
   "source": [
    "from sklearn.model_selection import train_test_split\n",
    "\n",
    "X_train, X_test, y_train, y_test = train_test_split(X, y, test_size=0.2, random_state=0)"
   ]
  },
  {
   "cell_type": "code",
   "execution_count": 79,
   "id": "abfacad7",
   "metadata": {},
   "outputs": [],
   "source": [
    "from sklearn.discriminant_analysis import LinearDiscriminantAnalysis as LDA"
   ]
  },
  {
   "cell_type": "code",
   "execution_count": 80,
   "id": "443f0c43",
   "metadata": {},
   "outputs": [],
   "source": [
    "lda = LDA(n_components=1)\n",
    "X_train = lda.fit_transform(X_train, y_train)\n",
    "X_test = lda.transform(X_test)"
   ]
  },
  {
   "cell_type": "code",
   "execution_count": 81,
   "id": "123b5737",
   "metadata": {},
   "outputs": [],
   "source": [
    "param_grid = { \n",
    "    'n_estimators': [100,200, 500],\n",
    "    'max_features': ['auto', 'sqrt', 'log2'],\n",
    "    'max_depth' : [4,5,7,8,10,50,100],\n",
    "    'criterion' :['gini', 'entropy']\n",
    "}"
   ]
  },
  {
   "cell_type": "code",
   "execution_count": 82,
   "id": "e1c66475",
   "metadata": {},
   "outputs": [
    {
     "data": {
      "text/plain": [
       "GridSearchCV(cv=5, estimator=RandomForestClassifier(random_state=42),\n",
       "             param_grid={'criterion': ['gini', 'entropy'],\n",
       "                         'max_depth': [4, 5, 7, 8, 10, 50, 100],\n",
       "                         'max_features': ['auto', 'sqrt', 'log2'],\n",
       "                         'n_estimators': [100, 200, 500]})"
      ]
     },
     "execution_count": 82,
     "metadata": {},
     "output_type": "execute_result"
    }
   ],
   "source": [
    "\n",
    "rfc=RandomForestClassifier(random_state=42)\n",
    "CV_rfc = GridSearchCV(estimator=rfc, param_grid=param_grid, cv= 5)\n",
    "CV_rfc.fit(X_train, y_train)"
   ]
  },
  {
   "cell_type": "code",
   "execution_count": 83,
   "id": "d2962007",
   "metadata": {},
   "outputs": [
    {
     "data": {
      "text/plain": [
       "{'criterion': 'entropy',\n",
       " 'max_depth': 4,\n",
       " 'max_features': 'auto',\n",
       " 'n_estimators': 100}"
      ]
     },
     "execution_count": 83,
     "metadata": {},
     "output_type": "execute_result"
    }
   ],
   "source": [
    "CV_rfc.best_params_"
   ]
  },
  {
   "cell_type": "code",
   "execution_count": 84,
   "id": "7ba919c6",
   "metadata": {},
   "outputs": [],
   "source": [
    "from sklearn.ensemble import RandomForestClassifier\n",
    "rf_classifier=RandomForestClassifier(n_estimators=100,criterion= 'entropy', max_depth=4, max_features='auto').fit(X_train,y_train)\n",
    "prediction_lda=rf_classifier.predict(X_test)"
   ]
  },
  {
   "cell_type": "code",
   "execution_count": 85,
   "id": "1361238e",
   "metadata": {},
   "outputs": [
    {
     "name": "stdout",
     "output_type": "stream",
     "text": [
      "[[17  4]\n",
      " [ 8 12]]\n",
      "Accuracy0.7073170731707317\n"
     ]
    }
   ],
   "source": [
    "from sklearn.metrics import confusion_matrix\n",
    "from sklearn.metrics import accuracy_score\n",
    "\n",
    "cm = confusion_matrix(y_test, prediction_lda)\n",
    "print(cm)\n",
    "print('Accuracy' + str(accuracy_score(y_test, prediction_lda)))"
   ]
  },
  {
   "cell_type": "code",
   "execution_count": 207,
   "id": "404bcb33",
   "metadata": {},
   "outputs": [
    {
     "name": "stdout",
     "output_type": "stream",
     "text": [
      "f1 score :  0.7028985507246377\n",
      "precision :  0.7150000000000001\n",
      "recall :  0.7047619047619047\n",
      "accuracy: 0.7073170731707317\n"
     ]
    }
   ],
   "source": [
    "from sklearn.datasets import make_classification\n",
    "from sklearn.metrics import accuracy_score, f1_score, precision_score, recall_score, classification_report, confusion_matrix,ConfusionMatrixDisplay\n",
    "\n",
    "print(\"f1 score : \",f1_score(y_test, prediction_lda, average=\"macro\"))\n",
    "print(\"precision : \",precision_score(y_test,prediction_lda, average=\"macro\"))\n",
    "print(\"recall : \",recall_score(y_test, prediction_lda, average=\"macro\"))  \n",
    "print(\"accuracy:\",accuracy_score(y_test, prediction_lda))"
   ]
  },
  {
   "cell_type": "code",
   "execution_count": 86,
   "id": "23ee91ee",
   "metadata": {},
   "outputs": [
    {
     "data": {
      "image/png": "[encoded data removed]",
      "text/plain": [
       "<Figure size 600x600 with 1 Axes>"
      ]
     },
     "metadata": {
      "needs_background": "light"
     },
     "output_type": "display_data"
    }
   ],
   "source": [
    "from sklearn import metrics\n",
    "auc = metrics.roc_auc_score(y_test, prediction_lda)\n",
    "\n",
    "false_positive_rate, true_positive_rate, thresolds = metrics.roc_curve(y_test, prediction_lda)\n",
    "\n",
    "plt.figure(figsize=(6, 6), dpi=100)\n",
    "plt.axis('scaled')\n",
    "plt.xlim([0, 1])\n",
    "plt.ylim([0, 1])\n",
    "plt.title(\"AUC & ROC Curve\")\n",
    "plt.plot(false_positive_rate, true_positive_rate,'--' )\n",
    "plt.fill_between(false_positive_rate, true_positive_rate, facecolor='lightblue', alpha=0.7)\n",
    "plt.text(0.95, 0.05, 'AUC = %0.4f' % auc, ha='right', fontsize=12, weight='bold', color='blue')\n",
    "plt.xlabel(\"False Positive Rate\")\n",
    "plt.ylabel(\"True Positive Rate\")\n",
    "plt.show()"
   ]
  },
  {
   "cell_type": "markdown",
   "id": "f62db6ed",
   "metadata": {},
   "source": [
    "AFTER PCA- DIMENSIONALITY REDUCTION"
   ]
  },
  {
   "cell_type": "code",
   "execution_count": 183,
   "id": "e8675f79",
   "metadata": {},
   "outputs": [],
   "source": [
    "X_train, X_test, y_train, y_test = train_test_split(X_10pcs, y, test_size=0.2, random_state=0)"
   ]
  },
  {
   "cell_type": "code",
   "execution_count": 184,
   "id": "dfa46ba7",
   "metadata": {},
   "outputs": [],
   "source": [
    "param_grid = { \n",
    "    'n_estimators': [100,200, 500],\n",
    "    'max_features': ['auto', 'sqrt', 'log2'],\n",
    "    'max_depth' : [4,5,7,8,10,50,100],\n",
    "    'criterion' :['gini', 'entropy']\n",
    "}"
   ]
  },
  {
   "cell_type": "markdown",
   "id": "823a3d3a",
   "metadata": {},
   "source": [
    "# PCA- RF-gridsearch"
   ]
  },
  {
   "cell_type": "code",
   "execution_count": 185,
   "id": "d0810299",
   "metadata": {},
   "outputs": [
    {
     "data": {
      "text/plain": [
       "GridSearchCV(cv=5, estimator=RandomForestClassifier(random_state=42),\n",
       "             param_grid={'criterion': ['gini', 'entropy'],\n",
       "                         'max_depth': [4, 5, 7, 8, 10, 50, 100],\n",
       "                         'max_features': ['auto', 'sqrt', 'log2'],\n",
       "                         'n_estimators': [100, 200, 500]})"
      ]
     },
     "execution_count": 185,
     "metadata": {},
     "output_type": "execute_result"
    }
   ],
   "source": [
    "\n",
    "rfc=RandomForestClassifier(random_state=42)\n",
    "CV_rfc = GridSearchCV(estimator=rfc, param_grid=param_grid, cv= 5)\n",
    "CV_rfc.fit(X_train, y_train)"
   ]
  },
  {
   "cell_type": "code",
   "execution_count": 186,
   "id": "ec1c8871",
   "metadata": {},
   "outputs": [
    {
     "data": {
      "text/plain": [
       "{'criterion': 'gini',\n",
       " 'max_depth': 7,\n",
       " 'max_features': 'auto',\n",
       " 'n_estimators': 100}"
      ]
     },
     "execution_count": 186,
     "metadata": {},
     "output_type": "execute_result"
    }
   ],
   "source": [
    "CV_rfc.best_params_"
   ]
  },
  {
   "cell_type": "code",
   "execution_count": 190,
   "id": "f25bc9b5",
   "metadata": {},
   "outputs": [],
   "source": [
    "from sklearn.ensemble import RandomForestClassifier\n",
    "rf_classifier=RandomForestClassifier(n_estimators=100,criterion='gini', max_depth=7,max_features='auto').fit(X_train,y_train)\n",
    "pred_pca_rf_grid=rf_classifier.predict(X_test)"
   ]
  },
  {
   "cell_type": "code",
   "execution_count": 191,
   "id": "70141f09",
   "metadata": {},
   "outputs": [
    {
     "name": "stdout",
     "output_type": "stream",
     "text": [
      "f1 score :  0.7524154589371981\n",
      "precision :  0.76625\n",
      "recall :  0.7535714285714286\n",
      "accuracy: 0.7560975609756098\n"
     ]
    }
   ],
   "source": [
    "print(\"f1 score : \",f1_score(y_test, pred_pca_rf_grid, average=\"macro\"))\n",
    "print(\"precision : \",precision_score(y_test, pred_pca_rf_grid, average=\"macro\"))\n",
    "print(\"recall : \",recall_score(y_test, pred_pca_rf_grid, average=\"macro\"))  \n",
    "print(\"accuracy:\",accuracy_score(y_test, pred_pca_rf_grid))"
   ]
  },
  {
   "cell_type": "code",
   "execution_count": 192,
   "id": "1e45b994",
   "metadata": {},
   "outputs": [
    {
     "data": {
      "image/png": "[encoded data removed]",
      "text/plain": [
       "<Figure size 600x600 with 1 Axes>"
      ]
     },
     "metadata": {
      "needs_background": "light"
     },
     "output_type": "display_data"
    }
   ],
   "source": [
    "from sklearn import metrics\n",
    "auc = metrics.roc_auc_score(y_test, prediction1)\n",
    "\n",
    "false_positive_rate, true_positive_rate, thresolds = metrics.roc_curve(y_test, prediction1)\n",
    "\n",
    "plt.figure(figsize=(6, 6), dpi=100)\n",
    "plt.axis('scaled')\n",
    "plt.xlim([0, 1])\n",
    "plt.ylim([0, 1])\n",
    "plt.title(\"AUC & ROC Curve\")\n",
    "plt.plot(false_positive_rate, true_positive_rate,'--' )\n",
    "plt.fill_between(false_positive_rate, true_positive_rate, facecolor='lightblue', alpha=0.7)\n",
    "plt.text(0.95, 0.05, 'AUC = %0.4f' % auc, ha='right', fontsize=12, weight='bold', color='blue')\n",
    "plt.xlabel(\"False Positive Rate\")\n",
    "plt.ylabel(\"True Positive Rate\")\n",
    "plt.show()"
   ]
  },
  {
   "cell_type": "markdown",
   "id": "51ccc54b",
   "metadata": {},
   "source": [
    "# Bayesian Optimization GP - RANDOM FOREST HYPER PARAMETER TUNING"
   ]
  },
  {
   "cell_type": "code",
   "execution_count": 217,
   "id": "e2279514",
   "metadata": {},
   "outputs": [
    {
     "name": "stdout",
     "output_type": "stream",
     "text": [
      "OrderedDict([('criterion', 'entropy'), ('max_depth', 25), ('max_features', 6), ('min_samples_leaf', 1), ('min_samples_split', 2), ('n_estimators', 100)])\n",
      "Accuracy:0.8137254901960783\n"
     ]
    }
   ],
   "source": [
    "#Random Forest\n",
    "from skopt import Optimizer\n",
    "from skopt import BayesSearchCV \n",
    "from skopt.space import Real, Categorical, Integer\n",
    "# Define the hyperparameter configuration space\n",
    "rf_params = {\n",
    "    'n_estimators': Integer(10,100),\n",
    "    \"max_features\":Integer(1,8),\n",
    "    'max_depth': Integer(5,50),\n",
    "    \"min_samples_split\":Integer(2,11),\n",
    "    \"min_samples_leaf\":Integer(1,11),\n",
    "    \"criterion\":['gini','entropy']\n",
    "}\n",
    "gp_clf = RandomForestClassifier(random_state=0)\n",
    "Bayes = BayesSearchCV(gp_clf, rf_params,cv=3,n_iter=20, n_jobs=-1,scoring='accuracy')\n",
    "#number of iterations is set to 20, you can increase this number if time permits\n",
    "Bayes.fit(X_10pcs,y)\n",
    "print(Bayes.best_params_)\n",
    "bclf = Bayes.best_estimator_\n",
    "print(\"Accuracy:\"+ str(Bayes.best_score_))"
   ]
  },
  {
   "cell_type": "code",
   "execution_count": null,
   "id": "2faf70c2",
   "metadata": {},
   "outputs": [],
   "source": []
  },
  {
   "cell_type": "code",
   "execution_count": 218,
   "id": "9f3df6e9",
   "metadata": {},
   "outputs": [
    {
     "name": "stdout",
     "output_type": "stream",
     "text": [
      "[[19  2]\n",
      " [ 6 14]]\n",
      "0.8048780487804879\n",
      "              precision    recall  f1-score   support\n",
      "\n",
      "           0       0.76      0.90      0.83        21\n",
      "           1       0.88      0.70      0.78        20\n",
      "\n",
      "    accuracy                           0.80        41\n",
      "   macro avg       0.82      0.80      0.80        41\n",
      "weighted avg       0.82      0.80      0.80        41\n",
      "\n"
     ]
    }
   ],
   "source": [
    "X_train, X_test, y_train, y_test = train_test_split(X_10pcs, y, test_size=0.2, random_state=0)\n",
    "trainedforest_gp = RandomForestClassifier(criterion = 'entropy', max_depth = 25, \n",
    "                                       max_features = 6, \n",
    "                                       min_samples_leaf = 1, \n",
    "                                       min_samples_split = 2, \n",
    "                                       n_estimators = 100).fit(X_train,y_train)\n",
    "predictionforest_gp = trainedforest_gp.predict(X_test)\n",
    "print(confusion_matrix(y_test,predictionforest_gp))\n",
    "print(accuracy_score(y_test,predictionforest_gp))\n",
    "print(classification_report(y_test,predictionforest_gp))\n",
    "acc5 = accuracy_score(y_test,predictionforest_gp)"
   ]
  },
  {
   "cell_type": "code",
   "execution_count": 219,
   "id": "fe177b00",
   "metadata": {},
   "outputs": [
    {
     "name": "stdout",
     "output_type": "stream",
     "text": [
      "f1 score :  0.8019323671497585\n",
      "precision :  0.8175\n",
      "recall :  0.8023809523809524\n",
      "accuracy: 0.8048780487804879\n"
     ]
    }
   ],
   "source": [
    "print(\"f1 score : \",f1_score(y_test, predictionforest_gp, average=\"macro\"))\n",
    "print(\"precision : \",precision_score(y_test,predictionforest_gp, average=\"macro\"))\n",
    "print(\"recall : \",recall_score(y_test, predictionforest_gp, average=\"macro\"))  \n",
    "print(\"accuracy:\",accuracy_score(y_test, predictionforest_gp))"
   ]
  },
  {
   "cell_type": "code",
   "execution_count": 220,
   "id": "0953243c",
   "metadata": {},
   "outputs": [
    {
     "data": {
      "image/png": "[encoded data removed]",
      "text/plain": [
       "<Figure size 600x600 with 1 Axes>"
      ]
     },
     "metadata": {
      "needs_background": "light"
     },
     "output_type": "display_data"
    }
   ],
   "source": [
    "from sklearn import metrics\n",
    "auc = metrics.roc_auc_score(y_test, predictionforest_gp)\n",
    "\n",
    "false_positive_rate, true_positive_rate, thresolds = metrics.roc_curve(y_test, predictionforest_gp)\n",
    "\n",
    "plt.figure(figsize=(6, 6), dpi=100)\n",
    "plt.axis('scaled')\n",
    "plt.xlim([0, 1])\n",
    "plt.ylim([0, 1])\n",
    "plt.title(\"AUC & ROC Curve\")\n",
    "plt.plot(false_positive_rate, true_positive_rate,'--' )\n",
    "plt.fill_between(false_positive_rate, true_positive_rate, facecolor='lightblue', alpha=0.7)\n",
    "plt.text(0.95, 0.05, 'AUC = %0.4f' % auc, ha='right', fontsize=12, weight='bold', color='blue')\n",
    "plt.xlabel(\"False Positive Rate\")\n",
    "plt.ylabel(\"True Positive Rate\")\n",
    "plt.show()"
   ]
  },
  {
   "cell_type": "markdown",
   "id": "95a04bc6",
   "metadata": {},
   "source": [
    "# Bayesian Optimization TPE - RANDOM FOREST HYPER PARAMETER TUNING"
   ]
  },
  {
   "cell_type": "code",
   "execution_count": 209,
   "id": "ae28e2fb",
   "metadata": {},
   "outputs": [],
   "source": [
    "X_train, X_test, y_train, y_test = train_test_split(X_10pcs, y, test_size=0.2, random_state=0)\n",
    "from hyperopt import hp,fmin,tpe,STATUS_OK,Trials\n",
    "space = {'criterion': hp.choice('criterion', ['entropy', 'gini']),\n",
    "        'max_dept': hp.quniform('max_depth', 10, 400, 10),\n",
    "        'max_features': hp.choice('max_features', ['auto', 'sqrt','log2', None]),\n",
    "        'min_samples_leaf': hp.uniform('min_samples_leaf', 0, 0.5),\n",
    "        'min_samples_split' : hp.uniform ('min_samples_split', 0, 1),\n",
    "        'n_estimators' : hp.choice('n_estimators', [10, 50, 300, 750, 1200,1300,1500])\n",
    "        }"
   ]
  },
  {
   "cell_type": "code",
   "execution_count": 210,
   "id": "121310c4",
   "metadata": {},
   "outputs": [],
   "source": [
    "def objective(space):\n",
    "    model = RandomForestClassifier(criterion = space['criterion'], \n",
    "                                 max_features = space['max_features'],\n",
    "                                 min_samples_leaf = space['min_samples_leaf'],\n",
    "                                 min_samples_split = space['min_samples_split'],\n",
    "                                 n_estimators = space['n_estimators'], \n",
    "                                 )\n",
    "    \n",
    "    accuracy = cross_val_score(model, X_train, y_train, cv = 5).mean()\n",
    "\n",
    "    # We aim to maximize accuracy, therefore we return it as a negative value\n",
    "    return {'loss': accuracy, 'status':STATUS_OK}"
   ]
  },
  {
   "cell_type": "code",
   "execution_count": 211,
   "id": "d3f28f90",
   "metadata": {},
   "outputs": [
    {
     "name": "stdout",
     "output_type": "stream",
     "text": [
      "100%|██████████| 50/50 [06:08<00:00,  7.37s/trial, best loss: 0.4909090909090909]\n"
     ]
    },
    {
     "data": {
      "text/plain": [
       "{'criterion': 1,\n",
       " 'max_depth': 250.0,\n",
       " 'max_features': 2,\n",
       " 'min_samples_leaf': 0.28812908967653367,\n",
       " 'min_samples_split': 0.8362725390226804,\n",
       " 'n_estimators': 4}"
      ]
     },
     "execution_count": 211,
     "metadata": {},
     "output_type": "execute_result"
    }
   ],
   "source": [
    "from sklearn.model_selection import cross_val_score\n",
    "trials = Trials()\n",
    "best = fmin(fn= objective,\n",
    "            space=space,\n",
    "            algo= tpe.suggest,\n",
    "            max_evals =50,\n",
    "            trials=trials)\n",
    "best"
   ]
  },
  {
   "cell_type": "code",
   "execution_count": 212,
   "id": "bb170721",
   "metadata": {},
   "outputs": [
    {
     "name": "stdout",
     "output_type": "stream",
     "text": [
      "gini\n",
      "log2\n",
      "1200\n"
     ]
    }
   ],
   "source": [
    "crit = {0: 'entropy', 1: 'gini'}\n",
    "feat = {0: 'auto', 1: 'sqrt', 2: 'log2', 3: None}\n",
    "est = {0: 10, 1: 50, 2: 300, 3: 750, 4: 1200,5:1300,6:1500}\n",
    "\n",
    "\n",
    "print(crit[best['criterion']])\n",
    "print(feat[best['max_features']])\n",
    "print(est[best['n_estimators']])"
   ]
  },
  {
   "cell_type": "code",
   "execution_count": 213,
   "id": "7c09e0d4",
   "metadata": {},
   "outputs": [
    {
     "data": {
      "text/plain": [
       "0.28812908967653367"
      ]
     },
     "execution_count": 213,
     "metadata": {},
     "output_type": "execute_result"
    }
   ],
   "source": [
    "best['min_samples_leaf']"
   ]
  },
  {
   "cell_type": "code",
   "execution_count": 214,
   "id": "185cf9b6",
   "metadata": {},
   "outputs": [
    {
     "name": "stdout",
     "output_type": "stream",
     "text": [
      "[[ 0 21]\n",
      " [ 0 20]]\n",
      "0.4878048780487805\n",
      "              precision    recall  f1-score   support\n",
      "\n",
      "           0       0.00      0.00      0.00        21\n",
      "           1       0.49      1.00      0.66        20\n",
      "\n",
      "    accuracy                           0.49        41\n",
      "   macro avg       0.24      0.50      0.33        41\n",
      "weighted avg       0.24      0.49      0.32        41\n",
      "\n"
     ]
    },
    {
     "name": "stderr",
     "output_type": "stream",
     "text": [
      "C:\\Users\\Devi C Arati\\anaconda3\\lib\\site-packages\\sklearn\\metrics\\_classification.py:1318: UndefinedMetricWarning: Precision and F-score are ill-defined and being set to 0.0 in labels with no predicted samples. Use `zero_division` parameter to control this behavior.\n",
      "  _warn_prf(average, modifier, msg_start, len(result))\n",
      "C:\\Users\\Devi C Arati\\anaconda3\\lib\\site-packages\\sklearn\\metrics\\_classification.py:1318: UndefinedMetricWarning: Precision and F-score are ill-defined and being set to 0.0 in labels with no predicted samples. Use `zero_division` parameter to control this behavior.\n",
      "  _warn_prf(average, modifier, msg_start, len(result))\n",
      "C:\\Users\\Devi C Arati\\anaconda3\\lib\\site-packages\\sklearn\\metrics\\_classification.py:1318: UndefinedMetricWarning: Precision and F-score are ill-defined and being set to 0.0 in labels with no predicted samples. Use `zero_division` parameter to control this behavior.\n",
      "  _warn_prf(average, modifier, msg_start, len(result))\n"
     ]
    }
   ],
   "source": [
    "trainedforest = RandomForestClassifier(criterion = crit[best['criterion']], max_depth = 200, \n",
    "                                       max_features = feat[best['max_features']], \n",
    "                                       min_samples_leaf = best['min_samples_leaf'], \n",
    "                                       min_samples_split = best['min_samples_split'], \n",
    "                                       n_estimators = est[best['n_estimators']]).fit(X_train,y_train)\n",
    "predictionforest1 = trainedforest.predict(X_test)\n",
    "print(confusion_matrix(y_test,predictionforest1))\n",
    "print(accuracy_score(y_test,predictionforest1))\n",
    "print(classification_report(y_test,predictionforest1))\n",
    "acc5 = accuracy_score(y_test,predictionforest1)"
   ]
  },
  {
   "cell_type": "code",
   "execution_count": 215,
   "id": "5c0f3228",
   "metadata": {},
   "outputs": [
    {
     "name": "stdout",
     "output_type": "stream",
     "text": [
      "f1 score :  0.32786885245901637\n",
      "precision :  0.24390243902439024\n",
      "recall :  0.5\n",
      "accuracy: 0.4878048780487805\n"
     ]
    },
    {
     "name": "stderr",
     "output_type": "stream",
     "text": [
      "C:\\Users\\Devi C Arati\\anaconda3\\lib\\site-packages\\sklearn\\metrics\\_classification.py:1318: UndefinedMetricWarning: Precision is ill-defined and being set to 0.0 in labels with no predicted samples. Use `zero_division` parameter to control this behavior.\n",
      "  _warn_prf(average, modifier, msg_start, len(result))\n"
     ]
    }
   ],
   "source": [
    "print(\"f1 score : \",f1_score(y_test, predictionforest1, average=\"macro\"))\n",
    "print(\"precision : \",precision_score(y_test, predictionforest1, average=\"macro\"))\n",
    "print(\"recall : \",recall_score(y_test, predictionforest1, average=\"macro\"))  \n",
    "print(\"accuracy:\",accuracy_score(y_test, predictionforest1))"
   ]
  },
  {
   "cell_type": "code",
   "execution_count": 216,
   "id": "516763c8",
   "metadata": {},
   "outputs": [
    {
     "data": {
      "image/png": "[encoded data removed]",
      "text/plain": [
       "<Figure size 600x600 with 1 Axes>"
      ]
     },
     "metadata": {
      "needs_background": "light"
     },
     "output_type": "display_data"
    }
   ],
   "source": [
    "from sklearn import metrics\n",
    "auc = metrics.roc_auc_score(y_test, predictionforest1)\n",
    "\n",
    "false_positive_rate, true_positive_rate, thresolds = metrics.roc_curve(y_test, predictionforest1)\n",
    "\n",
    "plt.figure(figsize=(6, 6), dpi=100)\n",
    "plt.axis('scaled')\n",
    "plt.xlim([0, 1])\n",
    "plt.ylim([0, 1])\n",
    "plt.title(\"AUC & ROC Curve\")\n",
    "plt.plot(false_positive_rate, true_positive_rate,'--' )\n",
    "plt.fill_between(false_positive_rate, true_positive_rate, facecolor='lightblue', alpha=0.7)\n",
    "plt.text(0.95, 0.05, 'AUC = %0.4f' % auc, ha='right', fontsize=12, weight='bold', color='blue')\n",
    "plt.xlabel(\"False Positive Rate\")\n",
    "plt.ylabel(\"True Positive Rate\")\n",
    "plt.show()"
   ]
  },
  {
   "cell_type": "markdown",
   "id": "6bb041b9",
   "metadata": {},
   "source": [
    "# GENETIC ALGORITHM- RANDOM FOREST- PCA"
   ]
  },
  {
   "cell_type": "code",
   "execution_count": 165,
   "id": "3aefba8d",
   "metadata": {},
   "outputs": [
    {
     "name": "stdout",
     "output_type": "stream",
     "text": [
      "{'n_estimators': [200, 400, 600, 800, 1000, 1200, 1400, 1600, 1800, 2000], 'max_features': ['auto', 'sqrt', 'log2'], 'max_depth': [10, 120, 230, 340, 450, 560, 670, 780, 890, 1000], 'min_samples_split': [2, 5, 10, 14], 'min_samples_leaf': [1, 2, 4, 6, 8], 'criterion': ['entropy', 'gini']}\n"
     ]
    }
   ],
   "source": [
    "import numpy as np\n",
    "from sklearn.model_selection import RandomizedSearchCV\n",
    "# Number of trees in random forest\n",
    "n_estimators = [int(x) for x in np.linspace(start = 200, stop = 2000, num = 10)]\n",
    "# Number of features to consider at every split\n",
    "max_features = ['auto', 'sqrt','log2']\n",
    "# Maximum number of levels in tree\n",
    "max_depth = [int(x) for x in np.linspace(10, 1000,10)]\n",
    "# Minimum number of samples required to split a node\n",
    "min_samples_split = [2, 5, 10,14]\n",
    "# Minimum number of samples required at each leaf node\n",
    "min_samples_leaf = [1, 2, 4,6,8]\n",
    "# Create the random grid\n",
    "param = {'n_estimators': n_estimators,\n",
    "               'max_features': max_features,\n",
    "               'max_depth': max_depth,\n",
    "               'min_samples_split': min_samples_split,\n",
    "               'min_samples_leaf': min_samples_leaf,\n",
    "              'criterion':['entropy','gini']}\n",
    "print(param)"
   ]
  },
  {
   "cell_type": "code",
   "execution_count": 190,
   "id": "9e71b8ea",
   "metadata": {},
   "outputs": [
    {
     "name": "stdout",
     "output_type": "stream",
     "text": [
      "Collecting tpot\n",
      "  Downloading TPOT-0.11.7-py3-none-any.whl (87 kB)\n",
      "Collecting stopit>=1.1.1\n",
      "  Downloading stopit-1.1.2.tar.gz (18 kB)\n",
      "Requirement already satisfied: scipy>=1.3.1 in c:\\users\\devi c arati\\anaconda3\\lib\\site-packages (from tpot) (1.7.3)\n",
      "Collecting update-checker>=0.16\n",
      "  Downloading update_checker-0.18.0-py3-none-any.whl (7.0 kB)\n",
      "Requirement already satisfied: scikit-learn>=0.22.0 in c:\\users\\devi c arati\\anaconda3\\lib\\site-packages (from tpot) (1.0.2)\n",
      "Requirement already satisfied: numpy>=1.16.3 in c:\\users\\devi c arati\\anaconda3\\lib\\site-packages (from tpot) (1.21.5)\n",
      "Requirement already satisfied: pandas>=0.24.2 in c:\\users\\devi c arati\\anaconda3\\lib\\site-packages (from tpot) (1.4.2)\n",
      "Requirement already satisfied: deap>=1.2 in c:\\users\\devi c arati\\anaconda3\\lib\\site-packages (from tpot) (1.3.3)\n",
      "Requirement already satisfied: joblib>=0.13.2 in c:\\users\\devi c arati\\anaconda3\\lib\\site-packages (from tpot) (1.2.0)\n",
      "Requirement already satisfied: xgboost>=1.1.0 in c:\\users\\devi c arati\\anaconda3\\lib\\site-packages (from tpot) (1.7.2)\n",
      "Requirement already satisfied: tqdm>=4.36.1 in c:\\users\\devi c arati\\anaconda3\\lib\\site-packages (from tpot) (4.64.0)\n",
      "Requirement already satisfied: pytz>=2020.1 in c:\\users\\devi c arati\\anaconda3\\lib\\site-packages (from pandas>=0.24.2->tpot) (2021.3)\n",
      "Requirement already satisfied: python-dateutil>=2.8.1 in c:\\users\\devi c arati\\anaconda3\\lib\\site-packages (from pandas>=0.24.2->tpot) (2.8.2)\n",
      "Requirement already satisfied: six>=1.5 in c:\\users\\devi c arati\\anaconda3\\lib\\site-packages (from python-dateutil>=2.8.1->pandas>=0.24.2->tpot) (1.16.0)\n",
      "Requirement already satisfied: threadpoolctl>=2.0.0 in c:\\users\\devi c arati\\anaconda3\\lib\\site-packages (from scikit-learn>=0.22.0->tpot) (2.2.0)\n",
      "Requirement already satisfied: colorama in c:\\users\\devi c arati\\anaconda3\\lib\\site-packages (from tqdm>=4.36.1->tpot) (0.4.4)\n",
      "Requirement already satisfied: requests>=2.3.0 in c:\\users\\devi c arati\\anaconda3\\lib\\site-packages (from update-checker>=0.16->tpot) (2.27.1)\n",
      "Requirement already satisfied: certifi>=2017.4.17 in c:\\users\\devi c arati\\anaconda3\\lib\\site-packages (from requests>=2.3.0->update-checker>=0.16->tpot) (2021.10.8)\n",
      "Requirement already satisfied: charset-normalizer~=2.0.0 in c:\\users\\devi c arati\\anaconda3\\lib\\site-packages (from requests>=2.3.0->update-checker>=0.16->tpot) (2.0.4)\n",
      "Requirement already satisfied: idna<4,>=2.5 in c:\\users\\devi c arati\\anaconda3\\lib\\site-packages (from requests>=2.3.0->update-checker>=0.16->tpot) (3.3)\n",
      "Requirement already satisfied: urllib3<1.27,>=1.21.1 in c:\\users\\devi c arati\\anaconda3\\lib\\site-packages (from requests>=2.3.0->update-checker>=0.16->tpot) (1.26.9)\n",
      "Building wheels for collected packages: stopit\n",
      "  Building wheel for stopit (setup.py): started\n",
      "  Building wheel for stopit (setup.py): finished with status 'done'\n",
      "  Created wheel for stopit: filename=stopit-1.1.2-py3-none-any.whl size=11956 sha256=7e05bd0ad51349a0460b46ed17d505654b095063949656072f552bb73b8fdaef\n",
      "  Stored in directory: c:\\users\\devi c arati\\appdata\\local\\pip\\cache\\wheels\\48\\8c\\93\\3afb1916772591fe6bcc25cdf8b1c5bdc362f0ec8e2f0fd413\n",
      "Successfully built stopit\n",
      "Installing collected packages: update-checker, stopit, tpot\n",
      "Successfully installed stopit-1.1.2 tpot-0.11.7 update-checker-0.18.0\n",
      "Note: you may need to restart the kernel to use updated packages.\n"
     ]
    }
   ],
   "source": [
    "#pip install tpot"
   ]
  },
  {
   "cell_type": "code",
   "execution_count": 166,
   "id": "241fc652",
   "metadata": {},
   "outputs": [
    {
     "data": {
      "application/vnd.jupyter.widget-view+json": {
       "model_id": "",
       "version_major": 2,
       "version_minor": 0
      },
      "text/plain": [
       "Optimization Progress:   0%|          | 0/170 [00:00<?, ?pipeline/s]"
      ]
     },
     "metadata": {},
     "output_type": "display_data"
    },
    {
     "name": "stdout",
     "output_type": "stream",
     "text": [
      "\n",
      "Generation 1 - Current best internal CV score: 0.8463414634146342\n",
      "\n",
      "Generation 2 - Current best internal CV score: 0.8463414634146342\n",
      "\n",
      "Generation 3 - Current best internal CV score: 0.8463414634146342\n",
      "\n",
      "Generation 4 - Current best internal CV score: 0.8463414634146342\n",
      "\n",
      "Generation 5 - Current best internal CV score: 0.8463414634146342\n",
      "\n",
      "Generation 6 - Current best internal CV score: 0.8463414634146342\n",
      "\n",
      "Generation 7 - Current best internal CV score: 0.8463414634146342\n",
      "\n",
      "Generation 8 - Current best internal CV score: 0.8463414634146342\n",
      "\n",
      "Generation 9 - Current best internal CV score: 0.8463414634146342\n",
      "\n",
      "Generation 10 - Current best internal CV score: 0.8463414634146342\n",
      "\n",
      "Best pipeline: RandomForestClassifier(input_matrix, criterion=gini, max_depth=120, max_features=auto, min_samples_leaf=1, min_samples_split=2, n_estimators=1800)\n"
     ]
    },
    {
     "data": {
      "text/plain": [
       "TPOTClassifier(config_dict={'sklearn.ensemble.RandomForestClassifier': {'criterion': ['entropy',\n",
       "                                                                                      'gini'],\n",
       "                                                                        'max_depth': [10,\n",
       "                                                                                      120,\n",
       "                                                                                      230,\n",
       "                                                                                      340,\n",
       "                                                                                      450,\n",
       "                                                                                      560,\n",
       "                                                                                      670,\n",
       "                                                                                      780,\n",
       "                                                                                      890,\n",
       "                                                                                      1000],\n",
       "                                                                        'max_features': ['auto',\n",
       "                                                                                         'sqrt',\n",
       "                                                                                         'log2'],\n",
       "                                                                        'min_samples_leaf': [1,\n",
       "                                                                                             2,\n",
       "                                                                                             4,\n",
       "                                                                                             6,\n",
       "                                                                                             8],\n",
       "                                                                        'min_samples_split': [2,\n",
       "                                                                                              5,\n",
       "                                                                                              10,\n",
       "                                                                                              14],\n",
       "                                                                        'n_estimators': [200,\n",
       "                                                                                         400,\n",
       "                                                                                         600,\n",
       "                                                                                         800,\n",
       "                                                                                         1000,\n",
       "                                                                                         1200,\n",
       "                                                                                         1400,\n",
       "                                                                                         1600,\n",
       "                                                                                         1800,\n",
       "                                                                                         2000]}},\n",
       "               cv=4, early_stop=12, generations=10, mutation_rate=0.1,\n",
       "               offspring_size=12, population_size=50, scoring='accuracy',\n",
       "               verbosity=2)"
      ]
     },
     "execution_count": 166,
     "metadata": {},
     "output_type": "execute_result"
    }
   ],
   "source": [
    "X_train, X_test, y_train, y_test = train_test_split(X_8pcs, y, test_size=0.2, random_state=0)\n",
    "\n",
    "from tpot import TPOTClassifier\n",
    "\n",
    ",\n",
    "tpot_classifier = TPOTClassifier(generations= 10, population_size= 50, offspring_size= 12,\n",
    "                                 verbosity= 2, early_stop= 12,mutation_rate=0.1,\n",
    "                                 config_dict={'sklearn.ensemble.RandomForestClassifier': param}, \n",
    "                                 cv = 4, scoring = 'accuracy')\n",
    "tpot_classifier.fit(X_train,y_train)"
   ]
  },
  {
   "cell_type": "code",
   "execution_count": 168,
   "id": "487d21bd",
   "metadata": {},
   "outputs": [
    {
     "name": "stdout",
     "output_type": "stream",
     "text": [
      "0.7804878048780488\n"
     ]
    }
   ],
   "source": [
    "accuracy = tpot_classifier.score(X_test, y_test)\n",
    "print(accuracy)"
   ]
  },
  {
   "cell_type": "code",
   "execution_count": 169,
   "id": "46fdc0c3",
   "metadata": {},
   "outputs": [],
   "source": [
    "g_random_pred = tpot_classifier.predict(X_test)"
   ]
  },
  {
   "cell_type": "code",
   "execution_count": 170,
   "id": "d6d17c39",
   "metadata": {},
   "outputs": [
    {
     "data": {
      "text/plain": [
       "array([1, 0, 1, 1, 1, 0, 0, 0, 1, 0, 1, 0, 0, 1, 0, 0, 0, 1, 1, 1, 1, 0,\n",
       "       0, 0, 0, 0, 0, 0, 1, 0, 0, 1, 0, 1, 0, 0, 0, 1, 1, 1, 0])"
      ]
     },
     "execution_count": 170,
     "metadata": {},
     "output_type": "execute_result"
    }
   ],
   "source": [
    "g_random_pred"
   ]
  },
  {
   "cell_type": "code",
   "execution_count": 172,
   "id": "e626cb1a",
   "metadata": {},
   "outputs": [
    {
     "data": {
      "image/png": "[encoded data removed]",
      "text/plain": [
       "<Figure size 600x600 with 1 Axes>"
      ]
     },
     "metadata": {
      "needs_background": "light"
     },
     "output_type": "display_data"
    }
   ],
   "source": [
    "from sklearn import metrics\n",
    "auc = metrics.roc_auc_score(y_test,  g_random_pred)\n",
    "\n",
    "false_positive_rate, true_positive_rate, thresolds = metrics.roc_curve(y_test,  g_random_pred)\n",
    "\n",
    "plt.figure(figsize=(6, 6), dpi=100)\n",
    "plt.axis('scaled')\n",
    "plt.xlim([0, 1])\n",
    "plt.ylim([0, 1])\n",
    "plt.title(\"AUC & ROC Curve\")\n",
    "plt.plot(false_positive_rate, true_positive_rate,'--' )\n",
    "plt.fill_between(false_positive_rate, true_positive_rate, facecolor='lightblue', alpha=0.7)\n",
    "plt.text(0.95, 0.05, 'AUC = %0.4f' % auc, ha='right', fontsize=12, weight='bold', color='blue')\n",
    "plt.xlabel(\"False Positive Rate\")\n",
    "plt.ylabel(\"True Positive Rate\")\n",
    "plt.show()"
   ]
  },
  {
   "cell_type": "code",
   "execution_count": 171,
   "id": "92fa75e7",
   "metadata": {},
   "outputs": [
    {
     "name": "stdout",
     "output_type": "stream",
     "text": [
      "f1 score :  0.7783783783783783\n",
      "precision :  0.7867647058823529\n",
      "recall :  0.7785714285714285\n",
      "accuracy: 0.7804878048780488\n"
     ]
    }
   ],
   "source": [
    "print(\"f1 score : \",f1_score(y_test, g_random_pred, average=\"macro\"))\n",
    "print(\"precision : \",precision_score(y_test, g_random_pred, average=\"macro\"))\n",
    "print(\"recall : \",recall_score(y_test, g_random_pred, average=\"macro\"))  \n",
    "print(\"accuracy:\",accuracy_score(y_test, g_random_pred))"
   ]
  },
  {
   "cell_type": "code",
   "execution_count": 251,
   "id": "043643b3",
   "metadata": {
    "scrolled": false
   },
   "outputs": [
    {
     "data": {
      "text/plain": [
       "Text(0.5, 1.0, 'comparison of different models')"
      ]
     },
     "execution_count": 251,
     "metadata": {},
     "output_type": "execute_result"
    },
    {
     "data": {
      "image/png": "[encoded data removed]",
      "text/plain": [
       "<Figure size 864x432 with 1 Axes>"
      ]
     },
     "metadata": {
      "needs_background": "light"
     },
     "output_type": "display_data"
    }
   ],
   "source": [
    "plt.figure(figsize=(12,6)).clf()\n",
    "\n",
    "fpr, tpr, _ = metrics.roc_curve(y_test, y_pred1)\n",
    "auc1 = metrics.roc_auc_score(y_test, y_pred1)\n",
    "plt.plot(fpr,tpr,label=\" BO-GP-SVM, AUC=\"+str(auc1))\n",
    "\n",
    "fpr, tpr, _ = metrics.roc_curve(y_test, y_pred2)\n",
    "auc2 = metrics.roc_auc_score(y_test, y_pred2)\n",
    "plt.plot(fpr,tpr,label=\"BO-TPE-SVM, AUC=\"+str(auc2))\n",
    "\n",
    "fpr, tpr, _ = metrics.roc_curve(y_test, y_pred3)\n",
    "auc3 = metrics.roc_auc_score(y_test, y_pred3)\n",
    "plt.plot(fpr,tpr,label=\"GA-SVM, AUC=\"+str(auc3))\n",
    "\n",
    "fpr, tpr, _ = metrics.roc_curve(y_test, predictionforest_gp)\n",
    "auc1 = metrics.roc_auc_score(y_test, predictionforest_gp)\n",
    "plt.plot(fpr,tpr,label=\" BO-GP-RF, AUC=\"+str(auc1))\n",
    "\n",
    "fpr, tpr, _ = metrics.roc_curve(y_test, predictionforest1)\n",
    "auc2 = metrics.roc_auc_score(y_test, predictionforest1)\n",
    "plt.plot(fpr,tpr,label=\"BO-TPE-RF, AUC=\"+str(auc2))\n",
    "\n",
    "fpr, tpr, _ = metrics.roc_curve(y_test, g_random_pred)\n",
    "auc3 = metrics.roc_auc_score(y_test, g_random_pred)\n",
    "plt.plot(fpr,tpr,label=\"GA-RF, AUC=\"+str(auc3))\n",
    "\n",
    "fpr, tpr, _ = metrics.roc_curve(y_test, y_pred)\n",
    "auc1 = metrics.roc_auc_score(y_test, y_pred)\n",
    "plt.plot(fpr,tpr,label=\" LDA-SVM, AUC=\"+str(auc1))\n",
    "\n",
    "fpr, tpr, _ = metrics.roc_curve(y_test, y_pred_pca)\n",
    "auc1 = metrics.roc_auc_score(y_test, y_pred_pca)\n",
    "plt.plot(fpr,tpr,label=\" PCA-SVM, AUC=\"+str(auc1))\n",
    "\n",
    "fpr, tpr, _ = metrics.roc_curve(y_test, prediction_lda)\n",
    "auc1 = metrics.roc_auc_score(y_test, prediction_lda)\n",
    "plt.plot(fpr,tpr,label=\" LDA-RF, AUC=\"+str(auc1))\n",
    "\n",
    "fpr, tpr, _ = metrics.roc_curve(y_test, pred_pca_rf_grid)\n",
    "auc1 = metrics.roc_auc_score(y_test, pred_pca_rf_grid)\n",
    "plt.plot(fpr,tpr,label=\" PCA-RF with gridsearch, AUC=\"+str(auc1))\n",
    "\n",
    "fpr, tpr, _ = metrics.roc_curve(y_test, prediction_lda)\n",
    "auc1 = metrics.roc_auc_score(y_test, prediction_lda)\n",
    "plt.plot(fpr,tpr,label=\" LDA-RF, AUC=\"+str(auc1))\n",
    "\n",
    "fpr, tpr, _ = metrics.roc_curve(y_test, y_pred_pcagrid)\n",
    "auc1 = metrics.roc_auc_score(y_test, y_pred_pcagrid)\n",
    "plt.plot(fpr,tpr,label=\" PCA-SVM-gridsearch, AUC=\"+str(auc1))\n",
    "#add legend\n",
    "plt.xlabel(\"False Positive Rate\")\n",
    "plt.ylabel(\"True Positive Rate\")\n",
    "plt.legend()\n",
    "plt.title(\"comparison of different models\")"
   ]
  }
 ],
 "metadata": {
  "kernelspec": {
   "display_name": "Python 3 (ipykernel)",
   "language": "python",
   "name": "python3"
  },
  "language_info": {
   "codemirror_mode": {
    "name": "ipython",
    "version": 3
   },
   "file_extension": ".py",
   "mimetype": "text/x-python",
   "name": "python",
   "nbconvert_exporter": "python",
   "pygments_lexer": "ipython3",
   "version": "3.9.12"
  }
 },
 "nbformat": 4,
 "nbformat_minor": 5
}
